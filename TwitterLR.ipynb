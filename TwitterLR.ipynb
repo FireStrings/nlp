{
 "cells": [
  {
   "cell_type": "code",
   "execution_count": 79,
   "metadata": {},
   "outputs": [],
   "source": [
    "import pandas as pd\n",
    "import re\n",
    "from sklearn.model_selection import train_test_split\n",
    "from sklearn.linear_model import LogisticRegression\n",
    "from sklearn.feature_extraction.text import CountVectorizer"
   ]
  },
  {
   "cell_type": "code",
   "execution_count": 80,
   "metadata": {},
   "outputs": [
    {
     "name": "stdout",
     "output_type": "stream",
     "text": [
      "Downloading emoji data ...\n",
      "... OK (Got response in 0.59 seconds)\n",
      "Writing emoji data to /root/.demoji/codes.json ...\n",
      "... OK\n"
     ]
    }
   ],
   "source": [
    "import demoji\n",
    "demoji.download_codes()\n"
   ]
  },
  {
   "cell_type": "code",
   "execution_count": 81,
   "metadata": {},
   "outputs": [],
   "source": [
    "data = pd.read_csv(\"data/data_tweeter/TweetsWithTheme.csv\")\n",
    "\n",
    "def cleanText(tweet):\n",
    "    tweet = ' '.join(re.sub(\"(@[A-Za-z0-9]+)|(#[A-Za-z0-9]+)|([0-9])\", \" \", tweet).split())\n",
    "    tweet = ' '.join(re.sub(\"(\\w+:\\/\\/\\S+)\", \" \", tweet).split())\n",
    "    tweet = ' '.join(re.sub(\"[\\_\\|\\.\\,\\\"\\'\\!\\?\\:\\;\\-\\(\\)\\=]\", \" \", tweet).split())\n",
    "    tweet = tweet.lower()\n",
    "        \n",
    "    return tweet\n",
    "\n",
    "def removeEmojis(text):\n",
    "    le = list(demoji.findall(text))\n",
    "    for i in le:\n",
    "        text = text.replace(i, \"\")\n",
    "    \n",
    "    return text\n",
    "\n",
    "def removeTwiceLetters(text):    \n",
    "    return ''.join(sorted(set(text), key=text.index))\n",
    "        \n",
    "# data.count()"
   ]
  },
  {
   "cell_type": "code",
   "execution_count": 82,
   "metadata": {},
   "outputs": [],
   "source": [
    "data[\"tweet_text_clean\"] = data.tweet_text.apply(cleanText)"
   ]
  },
  {
   "cell_type": "code",
   "execution_count": 38,
   "metadata": {},
   "outputs": [],
   "source": [
    "# data.head()\n",
    "# for i in data[\"tweet_text_clean\"]:\n",
    "#     if any(char.isdigit() for char in inputString):\n",
    "#         print(i)\n",
    "# data[\"tweet_text_clean\"]"
   ]
  },
  {
   "cell_type": "code",
   "execution_count": 83,
   "metadata": {},
   "outputs": [],
   "source": [
    "data[\"tweet_text_clean\"] = data[\"tweet_text_clean\"].apply(removeEmojis)"
   ]
  },
  {
   "cell_type": "code",
   "execution_count": 84,
   "metadata": {},
   "outputs": [],
   "source": [
    "data[\"tweet_text_clean\"] = data[\"tweet_text_clean\"].apply(removeTwiceLetters)"
   ]
  },
  {
   "cell_type": "code",
   "execution_count": 85,
   "metadata": {},
   "outputs": [
    {
     "data": {
      "text/plain": [
       "<61591x70340 sparse matrix of type '<class 'numpy.int64'>'\n",
       "\twith 119602 stored elements in Compressed Sparse Row format>"
      ]
     },
     "execution_count": 85,
     "metadata": {},
     "output_type": "execute_result"
    }
   ],
   "source": [
    "vetorizar = CountVectorizer()\n",
    "\n",
    "bag_of_words = vetorizar.fit_transform(data[\"tweet_text_clean\"].tolist())\n",
    "bag_of_words"
   ]
  },
  {
   "cell_type": "code",
   "execution_count": 86,
   "metadata": {},
   "outputs": [],
   "source": [
    "matriz_esparsa = pd.SparseDataFrame(bag_of_words, columns=vetorizar.get_feature_names())"
   ]
  },
  {
   "cell_type": "code",
   "execution_count": 89,
   "metadata": {},
   "outputs": [
    {
     "data": {
      "text/html": [
       "<div>\n",
       "<style scoped>\n",
       "    .dataframe tbody tr th:only-of-type {\n",
       "        vertical-align: middle;\n",
       "    }\n",
       "\n",
       "    .dataframe tbody tr th {\n",
       "        vertical-align: top;\n",
       "    }\n",
       "\n",
       "    .dataframe thead th {\n",
       "        text-align: right;\n",
       "    }\n",
       "</style>\n",
       "<table border=\"1\" class=\"dataframe\">\n",
       "  <thead>\n",
       "    <tr style=\"text-align: right;\">\n",
       "      <th></th>\n",
       "      <th>abcdeurnpzqsmlhjt</th>\n",
       "      <th>abcdurnãsvtimpqfl</th>\n",
       "      <th>abcxi</th>\n",
       "      <th>abdersumiãoqtlnph</th>\n",
       "      <th>abdlporfimquecsthnógvzíãé</th>\n",
       "      <th>abdovitrnumflhcpqãá</th>\n",
       "      <th>abdpotráqmhfé</th>\n",
       "      <th>abecsi</th>\n",
       "      <th>abedmgnhsuvté</th>\n",
       "      <th>abeflrqu</th>\n",
       "      <th>...</th>\n",
       "      <th>úê</th>\n",
       "      <th>āo</th>\n",
       "      <th>ėuherfntopsçc</th>\n",
       "      <th>شاعرك</th>\n",
       "      <th>شاعركلمفض</th>\n",
       "      <th>لمفضescaoóirántldpmçãvgéqu</th>\n",
       "      <th>ᵃᵗtodiélupresmvn</th>\n",
       "      <th>ḙh</th>\n",
       "      <th>ㅅづ</th>\n",
       "      <th>갓세븐</th>\n",
       "    </tr>\n",
       "  </thead>\n",
       "  <tbody>\n",
       "    <tr>\n",
       "      <th>0</th>\n",
       "      <td>NaN</td>\n",
       "      <td>NaN</td>\n",
       "      <td>NaN</td>\n",
       "      <td>NaN</td>\n",
       "      <td>NaN</td>\n",
       "      <td>NaN</td>\n",
       "      <td>NaN</td>\n",
       "      <td>NaN</td>\n",
       "      <td>NaN</td>\n",
       "      <td>NaN</td>\n",
       "      <td>...</td>\n",
       "      <td>NaN</td>\n",
       "      <td>NaN</td>\n",
       "      <td>NaN</td>\n",
       "      <td>NaN</td>\n",
       "      <td>NaN</td>\n",
       "      <td>NaN</td>\n",
       "      <td>NaN</td>\n",
       "      <td>NaN</td>\n",
       "      <td>NaN</td>\n",
       "      <td>NaN</td>\n",
       "    </tr>\n",
       "    <tr>\n",
       "      <th>1</th>\n",
       "      <td>NaN</td>\n",
       "      <td>NaN</td>\n",
       "      <td>NaN</td>\n",
       "      <td>NaN</td>\n",
       "      <td>NaN</td>\n",
       "      <td>NaN</td>\n",
       "      <td>NaN</td>\n",
       "      <td>NaN</td>\n",
       "      <td>NaN</td>\n",
       "      <td>NaN</td>\n",
       "      <td>...</td>\n",
       "      <td>NaN</td>\n",
       "      <td>NaN</td>\n",
       "      <td>NaN</td>\n",
       "      <td>NaN</td>\n",
       "      <td>NaN</td>\n",
       "      <td>NaN</td>\n",
       "      <td>NaN</td>\n",
       "      <td>NaN</td>\n",
       "      <td>NaN</td>\n",
       "      <td>NaN</td>\n",
       "    </tr>\n",
       "    <tr>\n",
       "      <th>2</th>\n",
       "      <td>NaN</td>\n",
       "      <td>NaN</td>\n",
       "      <td>NaN</td>\n",
       "      <td>NaN</td>\n",
       "      <td>NaN</td>\n",
       "      <td>NaN</td>\n",
       "      <td>NaN</td>\n",
       "      <td>NaN</td>\n",
       "      <td>NaN</td>\n",
       "      <td>NaN</td>\n",
       "      <td>...</td>\n",
       "      <td>NaN</td>\n",
       "      <td>NaN</td>\n",
       "      <td>NaN</td>\n",
       "      <td>NaN</td>\n",
       "      <td>NaN</td>\n",
       "      <td>NaN</td>\n",
       "      <td>NaN</td>\n",
       "      <td>NaN</td>\n",
       "      <td>NaN</td>\n",
       "      <td>NaN</td>\n",
       "    </tr>\n",
       "    <tr>\n",
       "      <th>3</th>\n",
       "      <td>NaN</td>\n",
       "      <td>NaN</td>\n",
       "      <td>NaN</td>\n",
       "      <td>NaN</td>\n",
       "      <td>NaN</td>\n",
       "      <td>NaN</td>\n",
       "      <td>NaN</td>\n",
       "      <td>NaN</td>\n",
       "      <td>NaN</td>\n",
       "      <td>NaN</td>\n",
       "      <td>...</td>\n",
       "      <td>NaN</td>\n",
       "      <td>NaN</td>\n",
       "      <td>NaN</td>\n",
       "      <td>NaN</td>\n",
       "      <td>NaN</td>\n",
       "      <td>NaN</td>\n",
       "      <td>NaN</td>\n",
       "      <td>NaN</td>\n",
       "      <td>NaN</td>\n",
       "      <td>NaN</td>\n",
       "    </tr>\n",
       "    <tr>\n",
       "      <th>4</th>\n",
       "      <td>NaN</td>\n",
       "      <td>NaN</td>\n",
       "      <td>NaN</td>\n",
       "      <td>NaN</td>\n",
       "      <td>NaN</td>\n",
       "      <td>NaN</td>\n",
       "      <td>NaN</td>\n",
       "      <td>NaN</td>\n",
       "      <td>NaN</td>\n",
       "      <td>NaN</td>\n",
       "      <td>...</td>\n",
       "      <td>NaN</td>\n",
       "      <td>NaN</td>\n",
       "      <td>NaN</td>\n",
       "      <td>NaN</td>\n",
       "      <td>NaN</td>\n",
       "      <td>NaN</td>\n",
       "      <td>NaN</td>\n",
       "      <td>NaN</td>\n",
       "      <td>NaN</td>\n",
       "      <td>NaN</td>\n",
       "    </tr>\n",
       "  </tbody>\n",
       "</table>\n",
       "<p>5 rows × 70340 columns</p>\n",
       "</div>"
      ],
      "text/plain": [
       "   abcdeurnpzqsmlhjt  abcdurnãsvtimpqfl  abcxi  abdersumiãoqtlnph  \\\n",
       "0                NaN                NaN    NaN                NaN   \n",
       "1                NaN                NaN    NaN                NaN   \n",
       "2                NaN                NaN    NaN                NaN   \n",
       "3                NaN                NaN    NaN                NaN   \n",
       "4                NaN                NaN    NaN                NaN   \n",
       "\n",
       "   abdlporfimquecsthnógvzíãé  abdovitrnumflhcpqãá  abdpotráqmhfé  abecsi  \\\n",
       "0                        NaN                  NaN            NaN     NaN   \n",
       "1                        NaN                  NaN            NaN     NaN   \n",
       "2                        NaN                  NaN            NaN     NaN   \n",
       "3                        NaN                  NaN            NaN     NaN   \n",
       "4                        NaN                  NaN            NaN     NaN   \n",
       "\n",
       "   abedmgnhsuvté  abeflrqu  ...  úê  āo  ėuherfntopsçc  شاعرك  شاعركلمفض  \\\n",
       "0            NaN       NaN  ... NaN NaN            NaN    NaN        NaN   \n",
       "1            NaN       NaN  ... NaN NaN            NaN    NaN        NaN   \n",
       "2            NaN       NaN  ... NaN NaN            NaN    NaN        NaN   \n",
       "3            NaN       NaN  ... NaN NaN            NaN    NaN        NaN   \n",
       "4            NaN       NaN  ... NaN NaN            NaN    NaN        NaN   \n",
       "\n",
       "   لمفضescaoóirántldpmçãvgéqu  ᵃᵗtodiélupresmvn  ḙh  ㅅづ  갓세븐  \n",
       "0                         NaN               NaN NaN NaN  NaN  \n",
       "1                         NaN               NaN NaN NaN  NaN  \n",
       "2                         NaN               NaN NaN NaN  NaN  \n",
       "3                         NaN               NaN NaN NaN  NaN  \n",
       "4                         NaN               NaN NaN NaN  NaN  \n",
       "\n",
       "[5 rows x 70340 columns]"
      ]
     },
     "execution_count": 89,
     "metadata": {},
     "output_type": "execute_result"
    }
   ],
   "source": [
    "\n",
    "matriz_esparsa.head()\n",
    "# matriz_esparsa.head()\n",
    "# vetorizar.get_feature_names()\n",
    "# data.columns\n",
    "# treino, teste, classe_treino, classe_teste = train_test_split(bag_of_words, data.sentiment, random_state=42)\n",
    "# regressao_logistica = LogisticRegression()\n",
    "# regressao_logistica.fit(treino, classe_treino)\n",
    "# # regressao_logistica.predict(teste)\n",
    "# acuracia = regressao_logistica.score(teste, classe_teste)\n",
    "# acuracia"
   ]
  },
  {
   "cell_type": "code",
   "execution_count": 88,
   "metadata": {},
   "outputs": [],
   "source": [
    "# bag_of_words = vetorizar.fit_transform([\"tristeza\", \"morte\"])\n",
    "# bag_of_words\n",
    "# regressao_logistica.predict_proba(bag_of_words)"
   ]
  }
 ],
 "metadata": {
  "kernelspec": {
   "display_name": "Python 3",
   "language": "python",
   "name": "python3"
  },
  "language_info": {
   "codemirror_mode": {
    "name": "ipython",
    "version": 3
   },
   "file_extension": ".py",
   "mimetype": "text/x-python",
   "name": "python",
   "nbconvert_exporter": "python",
   "pygments_lexer": "ipython3",
   "version": "3.6.9"
  }
 },
 "nbformat": 4,
 "nbformat_minor": 4
}
