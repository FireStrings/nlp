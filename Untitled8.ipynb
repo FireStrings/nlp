{
 "cells": [
  {
   "cell_type": "code",
   "execution_count": 32,
   "metadata": {},
   "outputs": [
    {
     "name": "stdout",
     "output_type": "stream",
     "text": [
      "As:1\n",
      "we:1\n",
      "wind:1\n",
      "down:1\n",
      "2019,:1\n",
      "I:3\n",
      "want:1\n",
      "to:1\n",
      "share:1\n",
      "with:2\n",
      "you:2\n",
      "my:1\n",
      "annual:1\n",
      "list:1\n",
      "of:1\n",
      "favorit:1\n",
      "that:1\n",
      "made:1\n",
      "the:1\n",
      "last:1\n",
      "year:1\n",
      "littl:1\n",
      "brighter.:1\n",
      "we’ll:1\n",
      "start:1\n",
      "book:1\n",
      "today:1\n",
      "—:1\n",
      "movi:1\n",
      "and:1\n",
      "music:1\n",
      "come:1\n",
      "soon.:1\n",
      "hope:1\n",
      "enjoy:1\n",
      "these:1\n",
      "much:1\n",
      "did.:1\n"
     ]
    },
    {
     "name": "stderr",
     "output_type": "stream",
     "text": [
      "Exception ignored in: <bound method SeekableUnicodeStreamReader.__del__ of <nltk.data.SeekableUnicodeStreamReader object at 0x7fd373ff0470>>\n",
      "Traceback (most recent call last):\n",
      "  File \"/usr/local/lib/python3.6/dist-packages/nltk/data.py\", line 1280, in __del__\n",
      "    if not self.closed:\n",
      "  File \"/usr/local/lib/python3.6/dist-packages/nltk/data.py\", line 1294, in closed\n",
      "    return self.stream.closed\n",
      "AttributeError: 'SeekableUnicodeStreamReader' object has no attribute 'stream'\n"
     ]
    },
    {
     "data": {
      "image/png": "[encoded data removed]",
      "text/plain": [
       "<Figure size 432x288 with 1 Axes>"
      ]
     },
     "metadata": {
      "needs_background": "light"
     },
     "output_type": "display_data"
    },
    {
     "data": {
      "text/plain": [
       "<matplotlib.axes._subplots.AxesSubplot at 0x7fd37bea5208>"
      ]
     },
     "execution_count": 32,
     "metadata": {},
     "output_type": "execute_result"
    }
   ],
   "source": [
    "\n",
    "from nltk.corpus import stopwords\n",
    "from nltk.probability import FreqDist\n",
    "from nltk.tokenize import word_tokenize\n",
    "from nltk.stem import PorterStemmer\n",
    "\n",
    "import os\n",
    "import nltk\n",
    "# nltk.download(\"punkt\")\n",
    "\n",
    "import urllib.request\n",
    "# response =  urllib.request.urlopen('https://en.wikipedia.org/wiki/Telesterion')\n",
    "# html = response.read()\n",
    "# # print(html)\n",
    "\n",
    "# from bs4 import BeautifulSoup\n",
    "# soup = BeautifulSoup(html,'html5lib')\n",
    "# text = soup.get_text(strip = True)\n",
    "# print(text)\n",
    "\n",
    "pst = PorterStemmer()\n",
    "\n",
    "# print(pst.stem(\"\"))\n",
    "\n",
    "text = os.popen(\"cat /home/leo/teste.txt\").read()\n",
    "\n",
    "tokens = [t for t in text.split()]\n",
    "\n",
    "# tokens = word_tokenize(text)\n",
    "\n",
    "# print(tokens)\n",
    "\n",
    "# fdist = FreqDist()\n",
    "\n",
    "# for word in tokens:\n",
    "#     fdist[word.lower()]+=1\n",
    "\n",
    "# fdist\n",
    "# print(tokens)\n",
    "\n",
    "\n",
    "# text = os.popen(\"cat /home/leo/texto.txt\").read()\n",
    "\n",
    "# tokens = [t for t in text.split()]\n",
    "\n",
    "\n",
    "sr= stopwords.words('portuguese')\n",
    "clean_tokens = tokens[:]\n",
    "for token in tokens:\n",
    "    if token in stopwords.words('portuguese'):\n",
    "        \n",
    "        clean_tokens.remove(token)\n",
    "\n",
    "# print(clean_tokens)\n",
    "\n",
    "# fdist = FreqDist()\n",
    "\n",
    "stemWords = []\n",
    "\n",
    "for word in clean_tokens:\n",
    "    stemWords.append(pst.stem(word))\n",
    "freq = nltk.FreqDist(stemWords)\n",
    "\n",
    "# print(freq)\n",
    "for key,val in freq.items():\n",
    "    print(str(key) + ':' + str(val))\n",
    "    \n",
    "freq.plot(20, cumulative=False)"
   ]
  },
  {
   "cell_type": "code",
   "execution_count": null,
   "metadata": {},
   "outputs": [],
   "source": []
  }
 ],
 "metadata": {
  "kernelspec": {
   "display_name": "Python 3",
   "language": "python",
   "name": "python3"
  },
  "language_info": {
   "codemirror_mode": {
    "name": "ipython",
    "version": 3
   },
   "file_extension": ".py",
   "mimetype": "text/x-python",
   "name": "python",
   "nbconvert_exporter": "python",
   "pygments_lexer": "ipython3",
   "version": "3.6.9"
  }
 },
 "nbformat": 4,
 "nbformat_minor": 2
}
