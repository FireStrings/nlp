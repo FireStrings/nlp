{
 "cells": [
  {
   "cell_type": "code",
   "execution_count": 1,
   "metadata": {},
   "outputs": [],
   "source": [
    "import pandas as pd\n",
    "import re\n",
    "import unidecode\n",
    "import demoji\n",
    "import nltk\n",
    "from nltk.corpus import stopwords\n",
    "from spacy.lang.pt.stop_words import STOP_WORDS\n",
    "import spacy\n",
    "from string import punctuation\n",
    "import matplotlib.pyplot as plt\n",
    "import seaborn as sns\n",
    "from nltk import tokenize\n",
    "import nltk\n",
    "\n",
    "%matplotlib inline\n",
    "\n",
    "nlp = spacy.load(\"pt\")\n",
    "nlp.Defaults.stop_words |= {\"gt\", \"&gt\", \"to\",\"uol\",\"mi\",\"budddhetg\",\"the\", \"ne\", \"vou\", \"ta\", \"via\",\"ex\", \"pq\", \"vc\",\"aa\",\"pra\",\"to\", \"a\", \"b\", \"c\", \"d\", \"e\", \"f\", \"g\", \"h\", \"i\", \"j\", \"k\", \"l\", \"m\", \"n\", \"o\", \"p\", \"q\", \"r\", \"s\", \"t\", \"u\", \"v\", \"w\", \"x\", \"y\", \"z\"}"
   ]
  },
  {
   "cell_type": "code",
   "execution_count": 2,
   "metadata": {},
   "outputs": [],
   "source": [
    "palavras_irrelevantes = set(stopwords.words('portuguese') + list(punctuation))"
   ]
  },
  {
   "cell_type": "code",
   "execution_count": 3,
   "metadata": {},
   "outputs": [],
   "source": [
    "data = pd.read_csv(\"data/dataTweeter.csv\", sep=\";\", encoding='utf8')"
   ]
  },
  {
   "cell_type": "code",
   "execution_count": 4,
   "metadata": {},
   "outputs": [
    {
     "data": {
      "text/html": [
       "<div>\n",
       "<style scoped>\n",
       "    .dataframe tbody tr th:only-of-type {\n",
       "        vertical-align: middle;\n",
       "    }\n",
       "\n",
       "    .dataframe tbody tr th {\n",
       "        vertical-align: top;\n",
       "    }\n",
       "\n",
       "    .dataframe thead th {\n",
       "        text-align: right;\n",
       "    }\n",
       "</style>\n",
       "<table border=\"1\" class=\"dataframe\">\n",
       "  <thead>\n",
       "    <tr style=\"text-align: right;\">\n",
       "      <th></th>\n",
       "      <th>ID</th>\n",
       "      <th>USER</th>\n",
       "      <th>POST</th>\n",
       "    </tr>\n",
       "  </thead>\n",
       "  <tbody>\n",
       "    <tr>\n",
       "      <th>0</th>\n",
       "      <td>1376863023600599043</td>\n",
       "      <td>g1</td>\n",
       "      <td>Veja a previsão de entrega de vacinas da Fiocr...</td>\n",
       "    </tr>\n",
       "    <tr>\n",
       "      <th>1</th>\n",
       "      <td>1376859250056519687</td>\n",
       "      <td>g1</td>\n",
       "      <td>Presidente trocou comandos de Relações Exterio...</td>\n",
       "    </tr>\n",
       "    <tr>\n",
       "      <th>2</th>\n",
       "      <td>1376855473828290562</td>\n",
       "      <td>g1</td>\n",
       "      <td>Vítima era obrigada a realizar serviços domést...</td>\n",
       "    </tr>\n",
       "    <tr>\n",
       "      <th>3</th>\n",
       "      <td>1376851704335978500</td>\n",
       "      <td>g1</td>\n",
       "      <td>Os dois defendiam a vacinação nas redes sociai...</td>\n",
       "    </tr>\n",
       "    <tr>\n",
       "      <th>4</th>\n",
       "      <td>1376847923758108672</td>\n",
       "      <td>g1</td>\n",
       "      <td>Leia os bastidores no blog do @gcamarotti http...</td>\n",
       "    </tr>\n",
       "  </tbody>\n",
       "</table>\n",
       "</div>"
      ],
      "text/plain": [
       "                    ID USER                                               POST\n",
       "0  1376863023600599043   g1  Veja a previsão de entrega de vacinas da Fiocr...\n",
       "1  1376859250056519687   g1  Presidente trocou comandos de Relações Exterio...\n",
       "2  1376855473828290562   g1  Vítima era obrigada a realizar serviços domést...\n",
       "3  1376851704335978500   g1  Os dois defendiam a vacinação nas redes sociai...\n",
       "4  1376847923758108672   g1  Leia os bastidores no blog do @gcamarotti http..."
      ]
     },
     "execution_count": 4,
     "metadata": {},
     "output_type": "execute_result"
    }
   ],
   "source": [
    "data.head()"
   ]
  },
  {
   "cell_type": "code",
   "execution_count": 5,
   "metadata": {},
   "outputs": [],
   "source": [
    "def cleanText(tweet):\n",
    "    if \"|\" in tweet:\n",
    "        tweet = tweet.split(\"|\")[1]\n",
    "    \n",
    "    tweet = ' '.join(re.sub(r\"http\\S+\", \"\", tweet).split())\n",
    "    tweet = ' '.join(re.sub(\"(@[A-Za-z0-9]+)|(#[A-Za-z0-9]+)|([0-9])\", \" \", tweet).split())\n",
    "    tweet = ' '.join(re.sub(\"(\\w+:\\/\\/\\S+)\", \" \", tweet).split())\n",
    "    tweet = ' '.join(re.sub(\"[\\_\\|\\.\\,\\\"\\'\\!\\?\\:\\;\\$\\-\\(\\)\\=]\", \" \", tweet).split())\n",
    "    tweet = tweet.lower()\n",
    "    \n",
    "    le = list(demoji.findall(tweet))\n",
    "    for i in le:\n",
    "        tweet = tweet.replace(i, \"\")\n",
    "    \n",
    "    if tweet.startswith('rt '):\n",
    "        tweet = tweet.replace(\"rt \", \"\")\n",
    "    \n",
    "    lNewTweet = []\n",
    "    for i in tweet.split(\" \"):\n",
    "        if i not in palavras_irrelevantes and i not in STOP_WORDS:\n",
    "            lNewTweet.append(i)\n",
    "    \n",
    "    newTweet = \" \".join(lNewTweet)\n",
    "        \n",
    "    return unidecode.unidecode(newTweet.replace(\" rt \", \"\"))"
   ]
  },
  {
   "cell_type": "code",
   "execution_count": 6,
   "metadata": {},
   "outputs": [],
   "source": [
    "data[\"tweet_text_clean\"] = data.POST.apply(cleanText)"
   ]
  },
  {
   "cell_type": "code",
   "execution_count": 7,
   "metadata": {},
   "outputs": [
    {
     "data": {
      "text/html": [
       "<div>\n",
       "<style scoped>\n",
       "    .dataframe tbody tr th:only-of-type {\n",
       "        vertical-align: middle;\n",
       "    }\n",
       "\n",
       "    .dataframe tbody tr th {\n",
       "        vertical-align: top;\n",
       "    }\n",
       "\n",
       "    .dataframe thead th {\n",
       "        text-align: right;\n",
       "    }\n",
       "</style>\n",
       "<table border=\"1\" class=\"dataframe\">\n",
       "  <thead>\n",
       "    <tr style=\"text-align: right;\">\n",
       "      <th></th>\n",
       "      <th>ID</th>\n",
       "      <th>USER</th>\n",
       "      <th>POST</th>\n",
       "      <th>tweet_text_clean</th>\n",
       "    </tr>\n",
       "  </thead>\n",
       "  <tbody>\n",
       "    <tr>\n",
       "      <th>0</th>\n",
       "      <td>1376863023600599043</td>\n",
       "      <td>g1</td>\n",
       "      <td>Veja a previsão de entrega de vacinas da Fiocr...</td>\n",
       "      <td>previsao entrega vacinas fiocruz butantan</td>\n",
       "    </tr>\n",
       "    <tr>\n",
       "      <th>1</th>\n",
       "      <td>1376859250056519687</td>\n",
       "      <td>g1</td>\n",
       "      <td>Presidente trocou comandos de Relações Exterio...</td>\n",
       "      <td>presidente trocou comandos relacoes exteriores...</td>\n",
       "    </tr>\n",
       "    <tr>\n",
       "      <th>2</th>\n",
       "      <td>1376855473828290562</td>\n",
       "      <td>g1</td>\n",
       "      <td>Vítima era obrigada a realizar serviços domést...</td>\n",
       "      <td>vitima realizar servicos domesticos remuneraca...</td>\n",
       "    </tr>\n",
       "    <tr>\n",
       "      <th>3</th>\n",
       "      <td>1376851704335978500</td>\n",
       "      <td>g1</td>\n",
       "      <td>Os dois defendiam a vacinação nas redes sociai...</td>\n",
       "      <td>defendiam vacinacao redes sociais</td>\n",
       "    </tr>\n",
       "    <tr>\n",
       "      <th>4</th>\n",
       "      <td>1376847923758108672</td>\n",
       "      <td>g1</td>\n",
       "      <td>Leia os bastidores no blog do @gcamarotti http...</td>\n",
       "      <td>leia bastidores blog</td>\n",
       "    </tr>\n",
       "  </tbody>\n",
       "</table>\n",
       "</div>"
      ],
      "text/plain": [
       "                    ID USER  \\\n",
       "0  1376863023600599043   g1   \n",
       "1  1376859250056519687   g1   \n",
       "2  1376855473828290562   g1   \n",
       "3  1376851704335978500   g1   \n",
       "4  1376847923758108672   g1   \n",
       "\n",
       "                                                POST  \\\n",
       "0  Veja a previsão de entrega de vacinas da Fiocr...   \n",
       "1  Presidente trocou comandos de Relações Exterio...   \n",
       "2  Vítima era obrigada a realizar serviços domést...   \n",
       "3  Os dois defendiam a vacinação nas redes sociai...   \n",
       "4  Leia os bastidores no blog do @gcamarotti http...   \n",
       "\n",
       "                                    tweet_text_clean  \n",
       "0          previsao entrega vacinas fiocruz butantan  \n",
       "1  presidente trocou comandos relacoes exteriores...  \n",
       "2  vitima realizar servicos domesticos remuneraca...  \n",
       "3                  defendiam vacinacao redes sociais  \n",
       "4                               leia bastidores blog  "
      ]
     },
     "execution_count": 7,
     "metadata": {},
     "output_type": "execute_result"
    }
   ],
   "source": [
    "data.head()"
   ]
  },
  {
   "cell_type": "code",
   "execution_count": 8,
   "metadata": {},
   "outputs": [],
   "source": [
    "token_ = [doc.split(\" \") for doc in data[\"tweet_text_clean\"].tolist()]\n",
    "token_3 = []\n",
    "token_2 = [[token_3.append(y) for y in x] for x in token_]\n",
    "\n",
    "frequencia = nltk.FreqDist(token_3)\n",
    "freqmc = frequencia.most_common(10000)\n",
    "# freqmc"
   ]
  },
  {
   "cell_type": "code",
   "execution_count": 9,
   "metadata": {},
   "outputs": [],
   "source": [
    "import gensim\n",
    "import sys\n",
    "\n",
    "\n",
    "from gensim.models.phrases import Phraser\n",
    "\n",
    "bigram = gensim.models.Phrases(token_, min_count=1, threshold=0.1) # higher threshold fewer phrases\n",
    "trigram = gensim.models.Phrases(bigram[token_], threshold=100)\n",
    "\n",
    "bigram_mod = gensim.models.phrases.Phraser(bigram)\n",
    "trigram_mod = gensim.models.phrases.Phraser(trigram)\n",
    "\n",
    "# [bigram_mod[doc] for doc in token_]\n",
    "# for doc in token_:\n",
    "#     print(doc)\n",
    "#     print(\"\\n\")\n",
    "\n",
    "# bigram_mod[['acesse', 'mw', 'fique', 'informado', 'hks', 'mkgh']]\n",
    "l = [trigram_mod[bigram_mod[doc]] for doc in token_]\n",
    "# l\n",
    "# for doc in token_:\n",
    "#     print(doc)\n",
    "# print(trigram_mod[bigram_mod[doc]])\n",
    "#     break\n"
   ]
  },
  {
   "cell_type": "code",
   "execution_count": 10,
   "metadata": {},
   "outputs": [],
   "source": [
    "import gensim.corpora as corpora\n",
    "\n",
    "id2word = corpora.Dictionary(l)\n",
    "corpus = [id2word.doc2bow(text) for text in l]\n"
   ]
  },
  {
   "cell_type": "code",
   "execution_count": 11,
   "metadata": {},
   "outputs": [],
   "source": [
    "# lda_model = gensim.models.LdaMulticore(corpus=corpus,\n",
    "#                                        id2word=id2word,\n",
    "#                                        num_topics=4, \n",
    "#                                        random_state=100,\n",
    "#                                        chunksize=100,\n",
    "#                                        passes=10,\n",
    "#                                        per_word_topics=True)\n",
    "\n",
    "lda_model = gensim.models.LdaMulticore(corpus=corpus,\n",
    "                                           id2word=id2word,\n",
    "                                           num_topics=28, \n",
    "                                           random_state=100,\n",
    "                                           chunksize=100,\n",
    "                                           passes=10,\n",
    "                                           alpha=0.31,\n",
    "                                           eta=0.01)"
   ]
  },
  {
   "cell_type": "code",
   "execution_count": 12,
   "metadata": {},
   "outputs": [],
   "source": [
    "from pprint import pprint# Print the Keyword in the 10 topics\n",
    "# doc_lda = lda_model[corpus]\n",
    "# print(dir(doc_lda))\n",
    "# print(doc_lda.corpus)\n",
    "# pprint(lda_model.print_topics())\n",
    "# pprint(dir(lda_model))\n",
    "# pprint(lda_model.get_topics())\n",
    "# print(lda_model.show_topic(2))\n",
    "lt = []\n",
    "for i, row in enumerate(lda_model[corpus]):\n",
    "    row = sorted(row, key=lambda x: (x[1]), reverse=True)\n",
    "    lt.append(row[0][0])\n",
    "\n",
    "# print(lt)\n",
    "contents = pd.Series(lt, name=\"topic\")\n",
    "data_new = pd.concat([data, contents], axis=1)"
   ]
  },
  {
   "cell_type": "code",
   "execution_count": 13,
   "metadata": {},
   "outputs": [
    {
     "data": {
      "text/plain": [
       "['arqueologos encontram mascara ouro milenar durante escavacoes china',\n",
       " 'vacinas levou serie protestos pais crise resultou demissoes ministros pedido saida presidente',\n",
       " 'guarda arma choque comerciante protesto abertura comercio pessoa imobilizada arma choque durante manifestacao cidade hortolandia sp protestos pediam reabertura comercio contrariando medidas enfrentamento pandemia',\n",
       " 'mae padrasto presos suspeita matar rapaz anos sp',\n",
       " 'sofrimento conheca pequenas acoes aliviam dor pandemia',\n",
       " 'achei certo festa comemorar vida milhoes pessoas morrem',\n",
       " 'comite ve colapso sp propoe ampliar fase emergencial dias',\n",
       " 'ibge proposta original encaminhada congresso nacional ano passado previa bilhoes',\n",
       " 'cadeirante sofre infarto morre atirar policiais homem morreu cidade barao melgaco mato grosso sofrer infarto conflito policiais militares videos aparece atirando agentes passar',\n",
       " 'ala stf decisao lula mantida ministros tema nebuloso gerar discussao plaenario']"
      ]
     },
     "execution_count": 13,
     "metadata": {},
     "output_type": "execute_result"
    }
   ],
   "source": [
    "# data_new.head()\n",
    "data_new[data_new[\"topic\"] == 1].sample(10)[\"tweet_text_clean\"].tolist()"
   ]
  },
  {
   "cell_type": "code",
   "execution_count": 14,
   "metadata": {},
   "outputs": [],
   "source": [
    "# coherence_model_lda = CoherenceModel(model=lda_model, texts=l, dictionary=id2word, coherence='c_v')\n",
    "# coherence_model_lda.get_coherence()\n",
    "# Encontrar qual o principal tópico em cada tweet\n",
    "\n",
    "# def format_topics_sentences(ldamodel=lda_model, corpus=corpus, texts=l):\n",
    "#     # Output\n",
    "#     sent_topics_df = pd.DataFrame()# Seleciona o principal tópico de cada tweet\n",
    "#     for i, row in enumerate(ldamodel[corpus]):\n",
    "#         row = sorted(row, key=lambda x: (x[1]), reverse=True)\n",
    "#         # Calcula o principal tópico, o percentual de contribuição e as palavras chaves de cada tweet\n",
    "#         for j, (topic_num, prop_topic) in enumerate(row):\n",
    "#             if j == 0:  # => mostra o principal tópico\n",
    "#                 wp = ldamodel.show_topic(topic_num)\n",
    "#                 topic_keywords = \", \".join([word for word, prop in wp])\n",
    "#                 sent_topics_df = sent_topics_df.append(pd.Series([int(topic_num), round(prop_topic,4), topic_keywords]), ignore_index=True)\n",
    "#             else:\n",
    "#                 break\n",
    "#     sent_topics_df.columns = ['Principal_Topico', 'Perc_Contributicao', 'Palavras_Chave']# Inclui o texto original no final do DataFrame\n",
    "#     contents = pd.Series(texts)\n",
    "#     sent_topics_df = pd.concat([sent_topics_df, contents], axis=1)\n",
    "#     return(sent_topics_df)# roda a função de calcular os principais tópicos de cada tweet\n",
    "\n",
    "# df_topic_sents_keywords = format_topics_sentences(ldamodel=lda_model, corpus=corpus, texts=l)# Formata o DataFrame\n",
    "# df_dominant_topic = df_topic_sents_keywords.reset_index()\n",
    "# df_dominant_topic.columns = ['Index_DF_Original', 'Principal_Topico', 'Perc_Contrib_Topico', 'Palavras_Chave', 'Tweets']# Group top 5 sentences under each topic\n",
    "# sent_topics_sorteddf_mallet = pd.DataFrame()\n",
    "# sent_topics_outdf_grpd = df_topic_sents_keywords.groupby('Principal_Topico')\n",
    "# for i, grp in sent_topics_outdf_grpd:\n",
    "#     sent_topics_sorteddf_mallet = pd.concat([sent_topics_sorteddf_mallet, \n",
    "#                                              grp.sort_values(['Perc_Contributicao'], ascending=[0]).head(1)], \n",
    "#                                             axis=0)# Reset Index    \n",
    "# sent_topics_sorteddf_mallet.reset_index(drop=True, inplace=True)# Format\n",
    "# sent_topics_sorteddf_mallet.columns = ['Topico', \"Topico_Perc_Contrib\", \"Palavras_Chave\", \"Tweet\"]# Show\n",
    "# sent_topics_sorteddf_mallet"
   ]
  },
  {
   "cell_type": "code",
   "execution_count": 15,
   "metadata": {},
   "outputs": [],
   "source": [
    "# sent_topics_sorteddf_mallet[\"Tweet\"][0]"
   ]
  },
  {
   "cell_type": "code",
   "execution_count": 16,
   "metadata": {},
   "outputs": [
    {
     "name": "stderr",
     "output_type": "stream",
     "text": [
      "100%|██████████| 14/14 [01:04<00:00,  4.64s/it]\n"
     ]
    },
    {
     "data": {
      "image/png": "[encoded data removed]",
      "text/plain": [
       "<Figure size 432x288 with 1 Axes>"
      ]
     },
     "metadata": {
      "needs_background": "light"
     },
     "output_type": "display_data"
    },
    {
     "name": "stdout",
     "output_type": "stream",
     "text": [
      "A quantidade de tópicos = 2  tem um valor de coerência de  0.6646\n",
      "A quantidade de tópicos = 4  tem um valor de coerência de  0.6236\n",
      "A quantidade de tópicos = 6  tem um valor de coerência de  0.6367\n",
      "A quantidade de tópicos = 8  tem um valor de coerência de  0.6351\n",
      "A quantidade de tópicos = 10  tem um valor de coerência de  0.6208\n",
      "A quantidade de tópicos = 12  tem um valor de coerência de  0.6414\n",
      "A quantidade de tópicos = 14  tem um valor de coerência de  0.6312\n",
      "A quantidade de tópicos = 16  tem um valor de coerência de  0.6425\n",
      "A quantidade de tópicos = 18  tem um valor de coerência de  0.6266\n",
      "A quantidade de tópicos = 20  tem um valor de coerência de  0.6295\n",
      "A quantidade de tópicos = 22  tem um valor de coerência de  0.6298\n",
      "A quantidade de tópicos = 24  tem um valor de coerência de  0.6251\n",
      "A quantidade de tópicos = 26  tem um valor de coerência de  0.6316\n",
      "A quantidade de tópicos = 28  tem um valor de coerência de  0.6211\n"
     ]
    }
   ],
   "source": [
    "from tqdm import tqdm\n",
    "from gensim.models import CoherenceModel\n",
    "def compute_coherence_values(dictionary, corpus, texts, limit, start=2, step=5):\n",
    "    coherence_values = []\n",
    "    model_list = []\n",
    "    for num_topics in tqdm(range(start, limit, step)):\n",
    "        \n",
    "        model = gensim.models.LdaMulticore(corpus, id2word=id2word, num_topics=num_topics)\n",
    "        model_list.append(model)\n",
    "        coherencemodel = CoherenceModel(model=model, texts=texts, dictionary=dictionary, coherence='c_v')\n",
    "        coherence_values.append(coherencemodel.get_coherence())\n",
    "    \n",
    "    return model_list, coherence_values# Colocando parametros na função\n",
    "    \n",
    "\n",
    "model_list, coherence_values = compute_coherence_values(dictionary=id2word, corpus=corpus, texts=l, start=2, limit=30, step=2)\n",
    "# Mostrando visualmente a quantidade de tópicos\n",
    "limit=30; start=2; step=2;\n",
    "x = range(start, limit, step)\n",
    "\n",
    "plt.plot(x, coherence_values)\n",
    "plt.xlabel(\"Num Tópicos\")\n",
    "plt.ylabel(\"Score de Coerência\")\n",
    "plt.legend((\"Valores de Coerência\"), loc='best')\n",
    "plt.show()# Lista dos valores de coerência, para melhor identificar o ponto de inflexão do gráfico\n",
    "for m, cv in zip(x, coherence_values):\n",
    "    print(\"A quantidade de tópicos =\", m, \" tem um valor de coerência de \", round(cv, 4))"
   ]
  },
  {
   "cell_type": "code",
   "execution_count": 17,
   "metadata": {},
   "outputs": [],
   "source": [
    "# supporting function\n",
    "def compute_coherence_values(corpus, dictionary, k, a, b):\n",
    "    lda_model = gensim.models.LdaMulticore(corpus=corpus,\n",
    "                                           id2word=id2word,\n",
    "                                           num_topics=10, \n",
    "                                           random_state=100,\n",
    "                                           chunksize=100,\n",
    "                                           passes=10,\n",
    "                                           alpha=a,\n",
    "                                           eta=b,\n",
    "                                           per_word_topics=True)\n",
    "    \n",
    "    coherence_model_lda = CoherenceModel(model=lda_model, texts=l, dictionary=id2word, coherence='c_v')\n",
    "    \n",
    "    return coherence_model_lda.get_coherence()"
   ]
  },
  {
   "cell_type": "code",
   "execution_count": 18,
   "metadata": {},
   "outputs": [
    {
     "name": "stderr",
     "output_type": "stream",
     "text": [
      "100%|██████████| 540/540 [3:02:39<00:00, 20.30s/it]  \n"
     ]
    }
   ],
   "source": [
    "import numpy as np\n",
    "import tqdm\n",
    "grid = {}\n",
    "grid['Validation_Set'] = {}# Topics range\n",
    "min_topics = 2\n",
    "max_topics = 11\n",
    "step_size = 1\n",
    "topics_range = range(min_topics, max_topics, step_size)\n",
    "\n",
    "# Alpha parameter\n",
    "alpha = list(np.arange(0.01, 1, 0.3))\n",
    "alpha.append('symmetric')\n",
    "alpha.append('asymmetric')\n",
    "\n",
    "# Beta parameter\n",
    "beta = list(np.arange(0.01, 1, 0.3))\n",
    "beta.append('symmetric')\n",
    "\n",
    "# Validation sets\n",
    "num_of_docs = len(corpus)\n",
    "corpus_sets = [# gensim.utils.ClippedCorpus(corpus, num_of_docs*0.25), \n",
    "               # gensim.utils.ClippedCorpus(corpus, num_of_docs*0.5), \n",
    "               gensim.utils.ClippedCorpus(corpus, int(num_of_docs*0.75)), \n",
    "               corpus]\n",
    "\n",
    "corpus_title = ['75% Corpus', '100% Corpus']\n",
    "model_results = {'Validation_Set': [],\n",
    "                 'Topics': [],\n",
    "                 'Alpha': [],\n",
    "                 'Beta': [],\n",
    "                 'Coherence': []\n",
    "                }# Can take a long time to run\n",
    "if 1 == 1:\n",
    "    pbar = tqdm.tqdm(total=540)\n",
    "    \n",
    "    # iterate through validation corpuses\n",
    "    for i in range(len(corpus_sets)):\n",
    "        # iterate through number of topics\n",
    "        for k in topics_range:\n",
    "            # iterate through alpha values\n",
    "            for a in alpha:\n",
    "                # iterare through beta values\n",
    "                for b in beta:\n",
    "                    # get the coherence score for the given parameters\n",
    "                    cv = compute_coherence_values(corpus=corpus_sets[i], dictionary=id2word, \n",
    "                                                  k=k, a=a, b=b)\n",
    "                    # Save the model results\n",
    "                    model_results['Validation_Set'].append(corpus_title[i])\n",
    "                    model_results['Topics'].append(k)\n",
    "                    model_results['Alpha'].append(a)\n",
    "                    model_results['Beta'].append(b)\n",
    "                    model_results['Coherence'].append(cv)\n",
    "                    \n",
    "                    pbar.update(1)\n",
    "    pd.DataFrame(model_results).to_csv('lda_tuning_results.csv', index=False)\n",
    "    pbar.close()"
   ]
  },
  {
   "cell_type": "code",
   "execution_count": 19,
   "metadata": {},
   "outputs": [],
   "source": [
    "pd.DataFrame(model_results).to_csv('/home/leo/lda_tuning_results.csv', index=False)"
   ]
  },
  {
   "cell_type": "code",
   "execution_count": null,
   "metadata": {},
   "outputs": [],
   "source": []
  }
 ],
 "metadata": {
  "kernelspec": {
   "display_name": "Python 3",
   "language": "python",
   "name": "python3"
  },
  "language_info": {
   "codemirror_mode": {
    "name": "ipython",
    "version": 3
   },
   "file_extension": ".py",
   "mimetype": "text/x-python",
   "name": "python",
   "nbconvert_exporter": "python",
   "pygments_lexer": "ipython3",
   "version": "3.6.9"
  }
 },
 "nbformat": 4,
 "nbformat_minor": 4
}
