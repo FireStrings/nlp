{
 "cells": [
  {
   "cell_type": "code",
   "execution_count": 67,
   "metadata": {},
   "outputs": [
    {
     "name": "stdout",
     "output_type": "stream",
     "text": [
      "[Olavo, Carvalho, manda, país, Fernando, Haddad, 1998, criou, plano, PT, resumo]\n"
     ]
    }
   ],
   "source": [
    "import spacy\n",
    "spacy_stopwords = spacy.lang.pt.stop_words.STOP_WORDS\n",
    "\n",
    "spacy_stopwords.add('a')\n",
    "spacy_stopwords.add('o')\n",
    "\n",
    "introduction_text = ('Para Olavo de Carvalho, “quem manda no país é Fernando Haddad que em 1998 criou um plano para o PT cujo resumo é a')\n",
    "introduction_doc = nlp(introduction_text)\n",
    "sentences = list(introduction_doc.sents)\n",
    "\n",
    "l= []\n",
    "\n",
    "for tokens in sentences:\n",
    "    for token in tokens:\n",
    "        if not token.is_stop and not token.is_punct:            \n",
    "            if token.text not in spacy_stopwords:\n",
    "                l.append(token)\n",
    "\n",
    "print(l)\n",
    "\n",
    "# for i in l:\n",
    "#     print(i, i.lemma_)"
   ]
  },
  {
   "cell_type": "code",
   "execution_count": null,
   "metadata": {},
   "outputs": [],
   "source": [
    "()"
   ]
  }
 ],
 "metadata": {
  "kernelspec": {
   "display_name": "Python 3",
   "language": "python",
   "name": "python3"
  },
  "language_info": {
   "codemirror_mode": {
    "name": "ipython",
    "version": 3
   },
   "file_extension": ".py",
   "mimetype": "text/x-python",
   "name": "python",
   "nbconvert_exporter": "python",
   "pygments_lexer": "ipython3",
   "version": "3.6.9"
  }
 },
 "nbformat": 4,
 "nbformat_minor": 2
}
