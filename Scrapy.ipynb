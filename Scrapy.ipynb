{
 "cells": [
  {
   "cell_type": "code",
   "execution_count": 3,
   "metadata": {},
   "outputs": [],
   "source": [
    "import scrapy\n",
    "\n",
    "class MyFisrtSpider(scrapy.Spider):\n",
    "    name = 'my-first-spider'\n",
    "    \n",
    "    def start_requests(self):       \n",
    "\n",
    "        start_urls = ['http://quotes.toscrape.com/page/1/', \n",
    "                      'http://quotes.toscrape.com/page/2/']\n",
    "        requests = []\n",
    "        for url in urls:\n",
    "            requests.append(scrapy.Request(url=url, callback=self.parses))\n",
    "\n",
    "\n",
    "        return requests\n",
    "    \n",
    "    def parses(self, response):\n",
    "        self.logger.info('Just parsing {}'.format(response.url))\n",
    "        \n"
   ]
  },
  {
   "cell_type": "code",
   "execution_count": 41,
   "metadata": {},
   "outputs": [],
   "source": [
    "import scrapy\n",
    "\n",
    "class QuoteSpider(scrapy.Spider):\n",
    "    name = 'quotes'\n",
    "    start_urls = ['http://quotes.toscrape.com/']\n",
    "    \n",
    "    def parses(self, response):\n",
    "        quotes = []\n",
    "        for quote in quotes:   \n",
    "            pass\n",
    "            yield{\n",
    "               'quote':quote.css('.text::text').get(),\n",
    "                'author':qoute.css('.author.text').get()\n",
    "            }\n",
    "        for i in range(2,10):\n",
    "            print(i)\n",
    "            \n",
    "        yield scrapy.Request(url = 'http://quotes.toscrape.com/')"
   ]
  },
  {
   "cell_type": "code",
   "execution_count": 1,
   "metadata": {},
   "outputs": [
    {
     "name": "stdout",
     "output_type": "stream",
     "text": [
      "[<Selector xpath='//h1' data='<h1>Last Offers</h1>'>, <Selector xpath='//h1' data='<h1>You may like</h1>'>]\n"
     ]
    }
   ],
   "source": [
    "from parsel import Selector\n",
    "\n",
    "def selectorCss():\n",
    "    with open('product_list.html') as code:\n",
    "        response = Selector(text=code.read())\n",
    "\n",
    "        offers = response.css('#offers')\n",
    "        produtos = offers.css('.product')\n",
    "        links = produtos.css('a::attr(href)' ).getall()\n",
    "\n",
    "#         links = response.css('#offers .product a::attr(href)').getall()\n",
    "\n",
    "        for link in links:\n",
    "            print(link)\n",
    "            \n",
    "def selectorXPath():\n",
    "    with open('product_list.html') as code:\n",
    "        response = Selector(text=code.read())\n",
    "        \n",
    "        print(response.xpath('//h1'))\n",
    "        \n",
    "selectorXPath()\n"
   ]
  }
 ],
 "metadata": {
  "kernelspec": {
   "display_name": "Python 3",
   "language": "python",
   "name": "python3"
  },
  "language_info": {
   "codemirror_mode": {
    "name": "ipython",
    "version": 3
   },
   "file_extension": ".py",
   "mimetype": "text/x-python",
   "name": "python",
   "nbconvert_exporter": "python",
   "pygments_lexer": "ipython3",
   "version": "3.6.8"
  }
 },
 "nbformat": 4,
 "nbformat_minor": 2
}
