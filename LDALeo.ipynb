{
 "cells": [
  {
   "cell_type": "code",
   "execution_count": 226,
   "metadata": {},
   "outputs": [],
   "source": [
    "import pandas as pd\n",
    "import re\n",
    "import unidecode\n",
    "import demoji\n",
    "import nltk\n",
    "from nltk.corpus import stopwords\n",
    "from spacy.lang.pt.stop_words import STOP_WORDS\n",
    "import spacy\n",
    "from string import punctuation\n",
    "import matplotlib.pyplot as plt\n",
    "import seaborn as sns\n",
    "from nltk import tokenize\n",
    "import nltk\n",
    "\n",
    "%matplotlib inline\n",
    "\n",
    "nlp = spacy.load(\"pt\")\n",
    "nlp.Defaults.stop_words |= {\"sábado\", \"sabado\", \"quinta\", \"feira\", \"terca\", \"terça\", \"sexta\", \"quarta\", \"segunda\", \"--\", \"\", \" \", \"-\", \"gt\", \"&gt\", \"to\",\"uol\",\"mi\",\"budddhetg\",\"the\", \"ne\", \"vou\", \"ta\", \"via\",\"ex\", \"pq\", \"vc\",\"aa\",\"pra\",\"to\", \"a\", \"b\", \"c\", \"d\", \"e\", \"f\", \"g\", \"h\", \"i\", \"j\", \"k\", \"l\", \"m\", \"n\", \"o\", \"p\", \"q\", \"r\", \"s\", \"t\", \"u\", \"v\", \"w\", \"x\", \"y\", \"z\"}"
   ]
  },
  {
   "cell_type": "code",
   "execution_count": 227,
   "metadata": {},
   "outputs": [],
   "source": [
    "palavras_irrelevantes = set(stopwords.words('portuguese') + list(punctuation) + list(nlp.Defaults.stop_words))"
   ]
  },
  {
   "cell_type": "code",
   "execution_count": 228,
   "metadata": {},
   "outputs": [],
   "source": [
    "def cleanText(tweet):\n",
    "    if \"|\" in tweet:\n",
    "        tweet = tweet.split(\"|\")[1]\n",
    "    \n",
    "    tweet = ' '.join(re.sub(r\"http\\S+\", \"\", tweet).split())\n",
    "    tweet = ' '.join(re.sub(\"(@[A-Za-z0-9]+)|(#[A-Za-z0-9]+)|([0-9])\", \" \", tweet).split())\n",
    "    tweet = ' '.join(re.sub(\"(\\w+:\\/\\/\\S+)\", \" \", tweet).split())\n",
    "    tweet = ' '.join(re.sub(\"[\\_\\|\\.\\,\\\"\\'\\!\\?\\-\\--\\:\\;\\$\\-\\(\\)\\=]\", \" \", tweet).split())\n",
    "    tweet = tweet.lower()\n",
    "    \n",
    "    le = list(demoji.findall(tweet))\n",
    "    for i in le:\n",
    "        tweet = tweet.replace(i, \"\")\n",
    "    \n",
    "    if tweet.startswith('rt '):\n",
    "        tweet = tweet.replace(\"rt \", \"\")\n",
    "    \n",
    "    lNewTweet = []\n",
    "    for i in tweet.split(\" \"):   \n",
    "        if i not in palavras_irrelevantes and i not in STOP_WORDS:           \n",
    "            lNewTweet.append(i)\n",
    "    \n",
    "    newTweet = \" \".join(lNewTweet)\n",
    "        \n",
    "    a = unidecode.unidecode(newTweet.replace(\" rt \", \"\").replace(\"–\", \"\").replace(\"--\", \"\"))\n",
    "    a = a.replace(\"--\", \"\")\n",
    "    a = a.replace(\"\\'\", \"\")\n",
    "    a = a.replace('\"', \"\")\n",
    "    if \"--\" in a:\n",
    "        print(\"Novamente\")\n",
    "        print(a)\n",
    "        \n",
    "    return a"
   ]
  },
  {
   "cell_type": "code",
   "execution_count": 229,
   "metadata": {},
   "outputs": [],
   "source": [
    "# palavras_irrelevantes"
   ]
  },
  {
   "cell_type": "code",
   "execution_count": 230,
   "metadata": {},
   "outputs": [],
   "source": [
    "df = pd.read_csv(\"/opt/documents.csv\", sep=\";\")"
   ]
  },
  {
   "cell_type": "code",
   "execution_count": 231,
   "metadata": {},
   "outputs": [],
   "source": [
    "df[\"text_clean\"] = df.text.apply(cleanText)\n",
    "df = df[~df[\"text\"].str.contains(\"no Google Podcasts\")]"
   ]
  },
  {
   "cell_type": "code",
   "execution_count": null,
   "metadata": {},
   "outputs": [],
   "source": []
  },
  {
   "cell_type": "code",
   "execution_count": 232,
   "metadata": {},
   "outputs": [],
   "source": [
    "# tf_vectorizer.vocabulary_"
   ]
  },
  {
   "cell_type": "code",
   "execution_count": 233,
   "metadata": {},
   "outputs": [],
   "source": [
    "# token_ = [doc.split(\" \") for doc in df[\"text_clean\"].tolist()]\n",
    "l_text = df[\"text_clean\"].tolist()\n",
    "l_doc = [nlp(text) for text in l_text]"
   ]
  },
  {
   "cell_type": "code",
   "execution_count": 234,
   "metadata": {},
   "outputs": [],
   "source": [
    "for i in l_text:\n",
    "    for j in i:\n",
    "        \n",
    "        if j == \"-\":\n",
    "            print(i)\n",
    "            break"
   ]
  },
  {
   "cell_type": "code",
   "execution_count": 235,
   "metadata": {},
   "outputs": [],
   "source": [
    "token_ = []"
   ]
  },
  {
   "cell_type": "code",
   "execution_count": 236,
   "metadata": {},
   "outputs": [],
   "source": [
    "for doc in l_doc:\n",
    "    tokens = [token for token in doc]\n",
    "    new_doc = []\n",
    "    for tok in tokens:\n",
    "        if tok.pos_ == 'VERB':\n",
    "            new_doc.append(str(tok.lemma_))\n",
    "        else:\n",
    "            new_doc.append(str(tok))\n",
    "    \n",
    "    token_.append(new_doc)"
   ]
  },
  {
   "cell_type": "code",
   "execution_count": 237,
   "metadata": {},
   "outputs": [],
   "source": [
    "import gensim\n",
    "import sys\n",
    "\n",
    "from gensim.models.phrases import Phraser\n",
    "\n",
    "bigram = gensim.models.Phrases(token_, min_count=1, threshold=100) # higher threshold fewer phrases\n",
    "trigram = gensim.models.Phrases(bigram[token_], threshold=100)\n",
    "\n",
    "bigram_mod = gensim.models.phrases.Phraser(bigram)\n",
    "trigram_mod = gensim.models.phrases.Phraser(trigram)"
   ]
  },
  {
   "cell_type": "code",
   "execution_count": null,
   "metadata": {},
   "outputs": [],
   "source": []
  },
  {
   "cell_type": "code",
   "execution_count": 238,
   "metadata": {},
   "outputs": [],
   "source": [
    "l = [trigram_mod[bigram_mod[doc]] for doc in token_]"
   ]
  },
  {
   "cell_type": "code",
   "execution_count": null,
   "metadata": {},
   "outputs": [],
   "source": []
  },
  {
   "cell_type": "code",
   "execution_count": 239,
   "metadata": {},
   "outputs": [],
   "source": [
    "# [(token, token.lemma_) for token in doc if token.pos_ == 'VERB']"
   ]
  },
  {
   "cell_type": "code",
   "execution_count": 240,
   "metadata": {},
   "outputs": [],
   "source": [
    "import gensim.corpora as corpora\n",
    "\n",
    "id2word = corpora.Dictionary(l)\n",
    "corpus = [id2word.doc2bow(text) for text in l]"
   ]
  },
  {
   "cell_type": "code",
   "execution_count": 261,
   "metadata": {},
   "outputs": [],
   "source": [
    "#alpha: densidade topico-documento\n",
    "# eta: densidade palavra-topico\n",
    "\n",
    "lda_model = gensim.models.LdaMulticore(corpus=corpus,\n",
    "                                           id2word=id2word,\n",
    "                                           num_topics=22, \n",
    "                                           random_state=100,\n",
    "                                           chunksize=100,\n",
    "                                           passes=10,\n",
    "                                           alpha=0.25,\n",
    "                                           eta=0.05)"
   ]
  },
  {
   "cell_type": "code",
   "execution_count": 290,
   "metadata": {},
   "outputs": [
    {
     "name": "stdout",
     "output_type": "stream",
     "text": [
      "[(11,\n",
      "  '0.027*\"henry\" + 0.003*\"hank\" + 0.002*\"medidas_adicionais\" + '\n",
      "  '0.002*\"excepcionalmente\" + 0.002*\"loterica_pais_internet\" + '\n",
      "  '0.002*\"dispositivos_necessario_cadastro_idade\" + '\n",
      "  '0.002*\"site_caixa_economica_federal\" + 0.002*\" '\n",
      "  '_acessivel_celular_computador\" + 0.002*\"apostas_feito_horario_brasilia\" + '\n",
      "  '0.002*\"letais\"'),\n",
      " (6,\n",
      "  '0.015*\"empresa\" + 0.012*\"plataforma\" + 0.009*\"usuarios\" + 0.009*\"twitter\" + '\n",
      "  '0.006*\"facebook\" + 0.006*\"dizer\" + 0.005*\"conteudo\" + 0.005*\"companhia\" + '\n",
      "  '0.005*\"plataformas\" + 0.005*\"americanas\"'),\n",
      " (9,\n",
      "  '0.042*\"monark\" + 0.024*\"nazismo\" + 0.019*\"nazista\" + '\n",
      "  '0.016*\"apologia_nazismo\" + 0.010*\"flow_podcast\" + 0.009*\"discurso_odio\" + '\n",
      "  '0.007*\"kataguiri\" + 0.005*\"estacionar\" + 0.005*\"kim_kataguiri_dem_sp\" + '\n",
      "  '0.005*\"bebado\"'),\n",
      " (15,\n",
      "  '0.016*\"doenca\" + 0.012*\"registrar\" + 0.012*\"brasil\" + '\n",
      "  '0.009*\"mortes_ultimos_dias\" + 0.009*\"covid\" + 0.007*\"dia\" + 0.007*\"pais\" + '\n",
      "  '0.007*\"mortes_covid\" + 0.007*\"horas\" + 0.006*\"casos\"'),\n",
      " (0,\n",
      "  '0.024*\" \" + 0.017*\"teclado\" + 0.015*\"modelo\" + 0.011*\"produto\" + '\n",
      "  '0.009*\"uso\" + 0.008*\"fevereiro_comprar_produto\" + 0.008*\"modelos\" + '\n",
      "  '0.008*\"usar\" + 0.008*\"jogos\" + 0.007*\"fabricante\"'),\n",
      " (4,\n",
      "  '0.032*\"ano\" + 0.016*\"passar\" + 0.015*\"bilhoes\" + 0.014*\"alta\" + '\n",
      "  '0.012*\"brasil\" + 0.011*\"moise\" + 0.009*\"inflacao\" + 0.008*\"queda\" + '\n",
      "  '0.007*\"mercado\" + 0.006*\"juros\"'),\n",
      " (21,\n",
      "  '0.010*\"covid\" + 0.007*\"anos\" + 0.006*\"cidade\" + 0.006*\"vacinar\" + '\n",
      "  '0.006*\"brasil\" + 0.006*\"acordo\" + 0.006*\"afirmar\" + 0.006*\"informar\" + '\n",
      "  '0.006*\"pessoas\" + 0.005*\"saude\"'),\n",
      " (19,\n",
      "  '0.008*\"roupa\" + 0.004*\"marcos\" + 0.004*\"one\" + 0.004*\"mendonca\" + '\n",
      "  '0.003*\"instrucao_normativa\" + 0.003*\"urinario\" + 0.003*\"impasse\" + '\n",
      "  '0.002*\"faltas\" + 0.002*\"partidario\" + 0.002*\"nucleo\"'),\n",
      " (14,\n",
      "  '0.008*\"entrar\" + 0.008*\"video\" + 0.008*\"seguir\" + 0.007*\"km\" + '\n",
      "  '0.007*\"animal\" + 0.006*\"corregedoria\" + 0.006*\"madbird\" + '\n",
      "  '0.006*\"anos_reclusao\" + 0.006*\"videos\" + 0.005*\"abaixo\"'),\n",
      " (3,\n",
      "  '0.034*\"ucrania\" + 0.029*\"russia\" + 0.017*\"pais\" + 0.014*\"dizer\" + '\n",
      "  '0.009*\"presidente\" + 0.009*\"putin\" + 0.008*\"guerra\" + 0.008*\"governo\" + '\n",
      "  '0.007*\"afirmar\" + 0.007*\"russo\"'),\n",
      " (1,\n",
      "  '0.030*\"drones\" + 0.011*\"praia\" + 0.006*\"emerson\" + '\n",
      "  '0.006*\"torcedor_palmeiras\" + 0.005*\"torcedor\" + 0.005*\"nina\" + '\n",
      "  '0.004*\"presidente\" + 0.004*\"banhistas\" + 0.003*\"camera\" + 0.003*\"algemar\"'),\n",
      " (2,\n",
      "  '0.011*\" \" + 0.010*\"presidente\" + 0.009*\"afirmar\" + 0.009*\"dizer\" + '\n",
      "  '0.008*\"brasil\" + 0.007*\"governo\" + 0.006*\"bolsonaro\" + 0.005*\"passar\" + '\n",
      "  '0.004*\"partido\" + 0.004*\"projeto\"'),\n",
      " (5,\n",
      "  '0.013*\"petropolis\" + 0.012*\"cidade\" + 0.011*\"pessoas\" + '\n",
      "  '0.010*\"desaparecido\" + 0.008*\"video\" + 0.008*\"noite\" + 0.008*\"bombeiros\" + '\n",
      "  '0.007*\"brasileiros\" + 0.007*\"defesa_civil\" + 0.007*\"ficar\"'),\n",
      " (20,\n",
      "  '0.019*\"anos\" + 0.017*\"cantora\" + 0.011*\"artista\" + 0.011*\"musica\" + '\n",
      "  '0.009*\"cantor\" + 0.007*\" \" + 0.007*\"dia\" + 0.007*\"show\" + 0.006*\"bbb\" + '\n",
      "  '0.006*\"filme\"'),\n",
      " (10,\n",
      "  '0.013*\"ministro\" + 0.010*\"stf\" + 0.009*\"acao\" + 0.009*\"ministros\" + '\n",
      "  '0.008*\"moraes\" + 0.008*\"pgr\" + 0.008*\"supremo\" + 0.007*\"pfizer\" + '\n",
      "  '0.006*\"pedir\" + 0.006*\"supremo_tribunal_federal_stf\"'),\n",
      " (17,\n",
      "  '0.007*\"dividir_bruta\" + 0.006*\"las_vegas\" + 0.006*\"flexibilizacao\" + '\n",
      "  '0.004*\"somar_bilhoes\" + 0.004*\"agua\" + 0.004*\"gerir\" + '\n",
      "  '0.004*\"ninguem_feriu\" + 0.003*\"lucro_liquido\" + 0.003*\"filtro\" + '\n",
      "  '0.003*\"game\"'),\n",
      " (8,\n",
      "  '0.015*\"alunos\" + 0.014*\"escola\" + 0.011*\"anos\" + 0.008*\"casa\" + '\n",
      "  '0.007*\"passar\" + 0.007*\"vitima\" + 0.007*\"o\" + 0.007*\"filha\" + '\n",
      "  '0.006*\"estudantes\" + 0.006*\"mae\"'),\n",
      " (7,\n",
      "  '0.014*\" \" + 0.012*\"carnaval\" + 0.010*\"paulo\" + 0.006*\"governo\" + '\n",
      "  '0.005*\"abril\" + 0.005*\"cidade\" + 0.004*\"dizer\" + 0.004*\"rua\" + '\n",
      "  '0.004*\"prefeitura\" + 0.004*\"evento\"'),\n",
      " (16,\n",
      "  '0.016*\"dizer\" + 0.011*\"caso\" + 0.010*\"policia\" + 0.009*\"anos\" + '\n",
      "  '0.009*\"crime\" + 0.008*\"homem\" + 0.007*\"afirmar\" + 0.007*\"pedir\" + '\n",
      "  '0.007*\"informar\" + 0.006*\"justica\"'),\n",
      " (12,\n",
      "  '0.006*\"incendio\" + 0.005*\"moraes\" + 0.004*\"veterinario\" + 0.003*\"espaco\" + '\n",
      "  '0.003*\"cesario_lange\" + 0.003*\"cidade\" + 0.003*\"mavsa_resort\" + '\n",
      "  '0.003*\"chuva\" + 0.003*\"resort\" + 0.002*\"paulo\"')]\n"
     ]
    }
   ],
   "source": [
    "from pprint import pprint# Print the Keyword in the 10 topics\n",
    "from gensim.models.coherencemodel import CoherenceModel\n",
    "import numpy as np\n",
    "# doc_lda = lda_model[corpus]\n",
    "# print(dir(doc_lda))\n",
    "# print(doc_lda.corpus)\n",
    "pprint(lda_model.print_topics())\n",
    "# pprint(dir(lda_model))\n",
    "# pprint(lda_model.get_topics().shape)\n",
    "# print(lda_model.show_topic(2))\n",
    "\n",
    "# coherencemodel = CoherenceModel(model=lda_model, texts=l, dictionary=id2word, coherence='c_v')\n",
    "# print(coherencemodel.get_coherence())"
   ]
  },
  {
   "cell_type": "markdown",
   "metadata": {},
   "source": [
    "0.4314842557920715, 0.43431967020317397, 0.43470914056968535, 0.43636517465862623, 0.47908497549481993\n"
   ]
  },
  {
   "cell_type": "code",
   "execution_count": 265,
   "metadata": {},
   "outputs": [],
   "source": [
    "lt = []\n",
    "for i, row in enumerate(lda_model[corpus]):\n",
    "    row = sorted(row, key=lambda x: (x[1]), reverse=True)\n",
    "    lt.append(row[0][0])\n",
    "\n",
    "# print(lt)\n",
    "contents = pd.Series(lt, name=\"topic\")\n",
    "data_new = pd.concat([df, contents], axis=1)"
   ]
  },
  {
   "cell_type": "code",
   "execution_count": 268,
   "metadata": {},
   "outputs": [
    {
     "name": "stdout",
     "output_type": "stream",
     "text": [
      "sabor intenso caracteristico apreciado amantes fermentacao caseira alimentacao saudavel kombucha cha popular especialistas ouvidos ressaltam ciencia debate populares beneficios bebida ingredientes fundamentais considerado quase incognita movimenta mercado milhoes reais brasil associacao brasileira kombucha abkom reportagem entenda topicos bebida kombucha cha sabor amargo produzido fermentacao processo quimico provocado microrganismos crescem ausencia ar associacao bacterias leveduras agrupado chamado scoby ingles symbiotic culture of bacteria and yeast resultado fermentacao acucar cha geralmente preto verde liquido producao anterior scoby alimenta acucar longo dias dando aspecto gaseificado sabor agridoce caracteristico bebida especialistas sugerem cha imortalidade surgiu meados seculo iii origem incerta fato bebida sabor intenso associada diversos beneficios debate ciencia cultuado supostos efeitos estudiosos tema sugerem longo seculo xx cha ganhou popularidade paises europa devido principalmente estudo suico sugeriu beber kombucha benefico comer outro alimento fermentado iogurte brasil produto comecou consumido pessoas faziam producao artesanal ultimos anos ganhando prateleiras mercados principais riscos associados consumo producao artesanal ceconni explica possibilidade intoxicacao chumbo substancia presente pigmento esmalte usado potes ceramica feita fermentacao relatado pesquisas tendo vista especialista ressalta materiais indicados producao vidro aco inox cuidados utensilios higiene etapas preparacao fundamental evitar contaminacao microbiologica outro fator indispensavel ceconni utilizacao recipiente bocal largo troca ar ambiente recipiente coberto gaze limpa pano modo entrada insetos contaminantes bebida evitada quantidade consumo centro controle prevencao doencas estados unidos cdc recomenda limite mililitros ml dia apesar ceconni ressalta nutricao quantidade ideal depender pessoa pessoa lista alegados beneficios imensa regular flora intestinal reforcar imunidade ajudar diabetes aumentar resistencia corpo cancer especialistas ouvidos claros alertam pesquisas precisam feitas beneficios efeitos terapeuticos possiveis toxicidades avaliados precisao nos simplesmente sabemos alegacoes kombucha verdadeiras resultados estudos surjam acrescenta estudo sido conduzido ciencia beneficios probioticos microrganismos regulam saude intestinal consequentemente corpo entenda probioticos abaixo pesquisas bebida milenar sido feita utilizando modelos animais linhagens celulares tubos ensaio etc tecnicas historicamente importantes ciencia tidas conclusivas estudos pre clinicos trazem evidencias cientificas fato resultados interpretados preliminares explica camile ceconni raros estudos clinicos randomizados tema rcts ingles randomized controlled trial considerados padrao ouro fazerem analise precisa dividem grupos recebem determinado tratamento placebo pesquisadores conseguem comparacoes rigor cientistas universidade lund suecia fizeram analise pessoas recebeu agua outro kombucha resultados pesquisa publicados video kombucha especialistas explicam cha milenar moda eua estudos desenvolvimento kapp conduzindo explica pesquisas raras caras demoradas radomir malbasa professor quimica aplicada engenharia universidade novi sad servia explica kombucha medicamento classico produzido laboratorios farmaceuticos suplemento alimentar fabricado principalmente casa dificil realizar estudo clinico completo explica efeitos beneficos atribuidos kombucha relatados usuarios longo prazo esperar kombucha possa ajudar xicaras cientistas debatam bacterias presentes kombucha classificadas probioticas diversas marcas vendidas brasil rotulam produtos apresentam propriedades funcionais proibidas analise adequacao amostras comercializadas pais pesquisadores universidade federal goias relataram bebidas indicaram propriedades demonstradas funcoes medicinais terapeuticas proibido resolucao anvisa estudo universidade lisboa concluiu microbiota kombucha populacao microrganismos e quase incognita ciencia precisa investigar seres vivos interagem si aliado revisao literatura cientifica bacterias bem chamados probioticos concluiu os beneficios viabilidade consumo probioticos adultos saudaveis   permanecem incertos kapp acrescenta ciencia fato kombucha bruta composto microrganismos vivos apresenta coquetel substancias incluindo fibras vitaminas minerais professora alerta o sabemos podemos juntar pecas beber kombucha resulta algum beneficio saude humana acontecer beneficio esperando resultados cientificos\n",
      "\n",
      "\n",
      "jovem caio telles guimaraes anos morador goncalo regiao metropolitana rio janeiro preso dias crime cometido informacoes advogado douglas assis responsavel defesa rapaz prisao caio negro sido motivada racismo cameras seguranca mostram jovem casa crime aconteceu defesa afirma sinal gps telefone celular caio indica passou rua ocorreu assalto caio preso dia fevereiro acusado participar roubo moto rua david campista rodovia rj volta familia rapaz casa saido ajudar amigo realizar mudanca imagens camera seguranca fica rua mora bairro laranjal confirmam versao familiares video acima reunindo provas possiveis deixar claro inocencia caio inicialmente perceber horarios conflitantes vitima afirma delegacia sido roubado cameras mostram horario caio estaria interior residencia explicou advogado douglas assis prisao caio feita agentes programa seguranca presente goncalo defesa caio ouviu vitima condicoes reconhecer rapaz assaltantes acordo advogado caio vitima mudou opiniao passou caio sendo autor roubo conversar policiais reservadamente minutos caio contou agredido tapas rosto policiais levou jato spray pimenta desbloquear aparelho telefone celular agentes depoimento delegacia homem moto roubada contou assaltantes apontaram arma assalto policiais prenderam caio encontraram arma crime moto roubada crime registrado a dp alcantara advogado caio revelou pedir revogacao prisao incluindo processo imagens camera seguranca sinal gps celular questionado reportagem responsaveis programa seguranca presente disseram agentes prenderam homens suspeitos bairro laranjal serem identificados vitima autores roubo motocicleta policia civil respondeu trata prisao flagrante efetuada policia militar autor reconhecido vitimas questionada caso deveria melhor apurado determinar prisao policia civil informou prisao decorrente investigacao base inquerito policial delegado agiu lei elemento surgido prisao apresentado defesa junto justica dizia nota policia civil\n",
      "\n",
      "\n",
      "noite celebrada missa dia morte cantora paulinha abelha paroquia senhora perpetuo socorro conjunto orlando dantas bairro conrado aracaju musicos banda calcinha preta amigos fas compareceram homenagear artista morreu dia fevereiro aracaju dias internada problemas decorrentes quadro insuficiencia renal missa celebrada simao dias familiares amigos fas participaram homenagem cantor audiran banda unha pintada disse cantora referencia fas paulinha sofremos danos perdendo artista porte gente cre paulinha melhor disse resultado ultimos exames causou morte cantora previsto divulgado estamos aguardando restante exames resultados biopsias feitas queriamos divulgar hoje amanha medicos fecharem laudo vamos divulgar garantiu empresario banda calcinha preta diassis marques leia natural municipio simao dias interior sergipe paula menezes nascimento leca viana trabalhou pai comercializando feiras livres comecou carreira cantora profissional banda panela barro dupla cantor daniel diau voltaram cantar juntos calcinha preta composta atualmente silvania aquino bell oliver historia banda idas vindas comecou anos empresario gilton andrade descobriu gravou cds dvds cantora homenageada musica leva nome paulinha deixou banda integrar o forro marlus viana casada retornou calcinha preta paulinha deixou banda formar dupla silvania aquino retornando maiores sucessos paulinha banda calcinha preta musicas vale furunfa baby doll louca ti sonho lindo armadilha paulinha amo calcinha preta gravou dvd anos fevereiro retornava rotina shows apresentacoes conta pandemia internacao paulinha compromisso gravacao podcast podpah paulo dia fevereiro\n",
      "\n",
      "\n",
      "banco itau informou noite canais digitais sendo liberados gradativamente extratos saldos contas correntes atualizados valores integralmente recompostos acrescentou banco origem problema atraso processamento dados causa quaisquer eventos externos itau lamenta transtorno disse instituicao longo clientes reclamaram feitos saques identificados  apontaram entrada dinheiro especificado casos pagamentos feitos retornaram contas clientes abaixo pane atingiu banco clientes reclamaram feitos saques identificados  apontaram entrada dinheiro especificado casos pagamentos feitos retornaram contas clientes inicio correntistas passaram relatar dificuldades acessar aplicativo banco correntistas acessar site banco itau pane afeta demonstracao extrato saldo conta banco informou motivo dificuldades acesso clientes itau banco problema relacionado atraso processamento dados bancarios gerou necessidade reprocessamento destes banco afirma pane quaisquer eventos externos  ocorreu nenhum ataque redes sociais banco disse servicos restabelecidos usurarios continuaram reclamando instabilidade banco correntistas afetada problema resolvido saldo restabelecido banco\n",
      "\n",
      "\n",
      "parou pensar gostar musicas favoritas qualidade som prazer relacionado conjunto experiencias sociais musicas remetem discussoes surgiram jovem surda isabela coelho viralizar redes sociais relato ouvir musicas anos analista qualidade software decidiu criar sequencia posts twitter compartilhar amigos sendo processo adaptacao implante coclear aparelho auditivo feito semanas esperava alcance fiz thread seguidores pediram relatar experiencia musicas ouvi vida imaginei pequeno alcance tantos compartilhamentos tantas curtidas realmente fiquei impressionada contou isabela pessoas ficaram decepcionadas primeiras impressoes artistas consagrados bob dylan pink floyd melhores explicou entanto percepcao mudar longo treino auditivo processo aprendizagem isabela consultou amigo musicista entender havia razao tecnica sons serem agradaveis entendendo agudo pior mim dou melhor grave procurei amigo poderia entender melhor incomodos descobrindo falava minuto video incomodou disse solo guitarra incomodo agudos virou trolagem amigo enviou famoso falsete mc melody opiniao starman david bowie soou melhor ouvidos isabela consiga interpretar canta afirma consegue distinguir voz cantor melodia instrumentos incrivel pareca gostei ouvir vintage culture entender eletronica justamente eletronica grave padrao diferente musicas cujos solos isolados solo guitarra agudos tornam desagradaveis ouvir viralizar post musicas isabela falava redes sociais capacitismo preconceito pessoas deficiencia sofrem acredita dialogo internet ajudar diminuir barreiras inumeras soltaram comentarios equivocados surdez procurei maneira gentil corrigir pessoas deficiencia auditiva informem diminua barreira preconceito sociedade video mostra ativacao implante coclear isabela fala romantizacao muitas acontece pessoas veem bebes escutando viram surdos ouvirem a geralmente videos bonitinhos dando ideia pros surdos ouvir som incrivel reacao tosca mostra realidade disse ocasiao assista abaixo isabela realiza implante coclear colocacao aparelho auditivo conta adaptou reforca importancia acompanhamento profissional processo melhores resultados morando paulo motivos implante coclear melhores fonoaudiologos pais psicologica epoca preparada radical causou ansiedade frustacao acabei desistindo hoje dia vejo deveria desistido felizmente psicologico melhor isabela estigma surdos aparelhos auditivos gente uso aparelho auditivo comum implante coclear acredite surdo ouvir aceitando deficiencia sentido pessoa deficiencia fisica cadeiras rodas pessoa membro corpo protese chama adaptacao vale pessoa deficiencia auditiva ganho auditivo qualidade vida barreira acessibilidade sociedade enorme procuramos lutar diminuir barreira precisamos adaptar mao dupla afirma gostaria aproveitar pais pais surdos perfeitamente compreensivel receio medo sentimento felizmente contar ficar procurem especialistas assunto observem procurem a opiniao unico saude oferece cirurgia implante coclear pessoas deficiencia auditiva permanente encaixe requisitos procedimento incluido cobertura planos saude\n",
      "\n",
      "\n",
      "morador chacara atirou matou policial federal lucas soares dantas valenca anos hipster federal alertou invadir casa armado informou delegado adriano jaime caso aconteceu buritinopolis nordeste goias noite depoimento morador agente pf gritou dizendo havia demonio residencia seguida disparou saiam casa entrar matar conforme delegado advogada lucas disse policial tratamento depressao viajou goias comemorar aniversario irmao rancho familia parentes acreditam saiu pe escuro conseguido voltar rancho disse surto leia delegado disse morador preso posse irregular arma fogo pagou fianca aguarda investigacao liberdade nota policia federal disse acompanha investigacoes presta familiares amigos relataram policia militar policial surto psicotico dia anterior conforme boletim ocorrencia lucas valenca gritado dizendo havia demonio residencia invasao interior casa dono esposa filha casal anos morador contou policia ouviu barulhos gente volta residencia gritaria diversos xingamentos vitima desligou disjuntor energia fica casa arrombou porta sala escuridao medo morador atirou policial espingarda bala atingiu barriga ocorrencia alegou policia agiu legitima defesa dono casa relatou atirou direcao invasor sabia religar disjuntor energia viu vitima baleada chamou policia ambulancia ocorrencia ambulancia chegou policial morto instituto criminalistica policia civil chacara pericia cena crime instituto medico legal iml posse recolheu corpo exame cadaverico causas morte noticias regiao goias\n",
      "\n",
      "\n",
      "delegacoes russia ucrania terminaram encontro concordaram rodada negociacoes nacoes conflito semana porta voz delegacao ucraniana disse entendimento nacoes criacao corredores humanitarios entrada provisoes retirada civis pais atacado russos imagens divulgadas autoridades mostram negociadores apertando maos mesa reuniao a registrado assessor presidencial ucrania mykhailo podolyak disse lados preveem cessar fogo temporario permitir retirada civis criacao corredores humanitarios saida populacao civil quer lugares proprios corredores humanitarios localizados cessar fogo durante evacuacao disse cessar fogo temporario entretanto costurado rodada negociacoes paises acordada data oficial exata acontecer disseram representantes nacoes chegaram entendimento entrega remedios alimentos locais lutas ferozes acontecendo os ministerios defesa russia ucrania acordaram manter corredores humanitarios vamos manter possibilidade manter cessar fogo corredores humanitarios disse negociador russo vladimir medinsky federacao russa reforca intencao manter paz paciencia situacao pedimos populacao use corredores humanitarios esperamos resolva logo declarou medinsky representantes ucrania reuniao disseram corredor saida areas conflito divulgado autoridades pais invadido conseguimos chegar entendimento principal responder centenas pessoas filhos parentes territorios conflito ucrania curto vamos oferecer possibilidade sair desses territorios seguranca disse negociador ucraniano para finalizacao acordos rodada negociacao importante vamos precisar esforco implementar rapida demorar muito completou negociador ucrania\n",
      "\n",
      "\n",
      "supremo tribunal federal stf decidiu votos manter bilhoes chamado fundo eleitoral  verba utilizada partidos politicos financiar campanhas eleicoes ano acao analisada supremo proposta partido questiona aumento fundo bilhoes bilhoes aprovado congresso sancionado presidente jair bolsonaro pede stf determine fundo volte orcamento inicial proposto governo bilhoes julgamento inicio dia suspenso semana passada retomada analise ministros divergiu relator andre mendonca votou suspender aumento ministro andre mendonca relator acao votou suspensao aumento fundo eleitoral mendonca disse ilegalidade aumento fundo emenda parlamentar afrontou reserva iniciativa legal uniao ministro reconhece congresso direito estabelecer fundo entanto relator apresentou argumentos defender suspensao decisao congresso afirmou fundao desrespeitou constituicao comprovacao necessidade ausencia proporcionalidade apontou mudanca desrespeitou regra anualidade eleitoral determina mudancas afetem eleicoes aprovadas prazo minimo ano pleito aprovacao orcamento congresso prevendo bilhoes fundo eleitoral ocorreu dezembro ano eleicoes ano marcadas outubro defendeu caso suspender aumento adotar bilhoes atualizado inflacao nunes marquesdivergiu relator votou manter aumento fundo eleitoral ministro rejeitou alegacoes partido seguida disse mudanca calculo criacao despesa fundo nunes marques afirmou cabe stf intervir legislativo muito enfrentemos impar historia crise sanitaria economica precedentes perder horizonte signos caracterizam democratico direito separacao harmonica poderes clausula inafastavel disse marques alexandre moraesdivergiu relator moraes negou alegacoes afirmou definido legislativo podemos concordar valores fixados dificil afericao eleicoes municipais gasto eleicoes majoritarias eleicoes caras disse moraes luiz fuxdivergiu relator fux entendeu cabe supremo decidir questoes legislativo ainda possa discordar merito inconstitucional serve votou supremo pagar preco disse fux edson fachindivergiu relator ministro considerou os valores desproporcionais cabe supremo analisar caso competencia legislativo as escolhas feitas representantes submetidas escrutinio soberania popular disse fachin luis roberto barrosoacompanhou argumentos relator considerando inconstitucional mudanca feita congresso lei diretrizes orcamentarias ldo permitiu aumento orcamento fundo entretanto votou manter fundo bi ano ministro concordou custo carissimo campanhas disse considerar financiamento publico custo financiamento privado rosa weberacompanhou argumentos relator considerando inconstitucional mudanca calculo ldo rosa weber afirmou apesar considerar fundo aumento exagerado acima inflacao realizacao democracia aporte suficiente recursos publicos e viabilizar igualdade chances argumentou dias toffolidivergiu relator toffoli entendeu cabe supremo interferir criticou fundo investimentos publicos patamar historia paralelamente aumentado recursos financiamento campanhas destinados obras infraestruturas afirmou carmen luciaacompanhou argumentos relator considerou inconstitucional mudanca calculo ldo ministra afirmou fundo eleitoral cumpre papel conferir igualdade candidatos eleicoes ressalvou ser observada seguranca juridica ano eleitoral mantendo decidido congresso ricardo lewandowskiacompanhou relator ministro afirmou lei afronta principio anualidade eleitoral vulnerando principio proporcionalidade poderia sido aprovado ano pleito um aumento dotacao comparado valores revela claramente excessivo totalmente injustificado afirmou gilmar mendesdivergiu relator mendes rejeitou argumentos apresentados afirmou inconstitucionalidade acordo congresso executivo fundo ministro hoje necessidade financiamento publico\n",
      "\n",
      "\n",
      "reporteres renato biazzi ronaldo souza agredidos gravavam reportagem situacao madrugada bras centro paulo madrugada passou reforma ano passado reinaugurado estrutura passou chamar circuito compras homem segurava cachorro amarrado aproximou comecou xingar reporteres faziam imagens partiu jornalistas atingindo golpe acertou mao reporter cinematografico ronaldo souza acordo tv globo cirurgia ficaram claras motivacoes agressor objetivo impedir trabalho imprensa ano passado reportagem sp mostrou milicianos controlam venda produtos piratas bairro exploram comerciantes acesso antecipado dias operacoes feitas prefeitura sp policia investiga caso tv globo repudia veemencia violencia solidariza profissionais tomara medidas legais adverte agridem declaracoes trabalho imprensa estimulam ato nota governo paulo repudiou ataque inadmissivel profissionais jornalismo alvos violencia exercem profissoes liberdade imprensa pilares democracias modernas governo paulo reforca compromisso defesa irrestrita jornalismo acompanhar investigacoes policia civil nota assinada secretaria comunicacao nota assessoria circuito compras paulo bras afirmou fatos narrados reportagem ocorreram distante perimetro o circuito compras considera inaceitavel agressao imprensa solidariza profissionais globo ccsp respeita jornalismo convivencia harmonica profissionais considera lamentavel agressoes ocorridas perimetro ccsp disposicao reporter cinematografico ronaldo souza acompanha atentamente investigacoes policia civil respeito disse entidade\n",
      "\n",
      "\n",
      "cargueiro felicity ace pegado fogo dia afundou oceano atlantico bordo cerca supercarros marcas porsche audi bentley prejuizo perda navio veiculos estimado bilhoes navio perdeu estabilidade sendo rebocado continente adernou informou cnn bandeira panama cargueiro deixado porto emden alemanha volkswagen fabrica davisville eua fogo comecou felicity ace arquipelago acores tripulantes haviam sido resgatados ferimentos assista abaixo leia jornal alemao handelsblatt email volkswagen eua havia carros marcas vw porsche audi lamborghini youtuber matt farah canal carros disse procurado concessionaria disse automovel havia encomendado carros navio james turner advogado especializado disputas envolvem transporte carga disse problemas eletricos causas comuns incendios geralmente afirma turner navios diferentes pisos isolado poderia conter danos abaixo video caso meganavio ficou dias encalhado canal suez marco trouxe transtorno comercio mundial\n",
      "\n",
      "\n"
     ]
    }
   ],
   "source": [
    "for i in data_new[data_new[\"topic\"] == 2].head(10).text_clean.tolist():\n",
    "    print(i)\n",
    "    print(\"\\n\")\n",
    "# data_new.topic.value_counts()"
   ]
  },
  {
   "cell_type": "code",
   "execution_count": 250,
   "metadata": {},
   "outputs": [
    {
     "name": "stderr",
     "output_type": "stream",
     "text": [
      "100%|██████████| 14/14 [01:58<00:00,  8.44s/it]\n"
     ]
    },
    {
     "data": {
      "image/png": "[encoded data removed]",
      "text/plain": [
       "<Figure size 432x288 with 1 Axes>"
      ]
     },
     "metadata": {
      "needs_background": "light"
     },
     "output_type": "display_data"
    },
    {
     "name": "stdout",
     "output_type": "stream",
     "text": [
      "A quantidade de tópicos = 2  tem um valor de coerência de  0.2619\n",
      "A quantidade de tópicos = 4  tem um valor de coerência de  0.2547\n",
      "A quantidade de tópicos = 6  tem um valor de coerência de  0.2605\n",
      "A quantidade de tópicos = 8  tem um valor de coerência de  0.2502\n",
      "A quantidade de tópicos = 10  tem um valor de coerência de  0.2623\n",
      "A quantidade de tópicos = 12  tem um valor de coerência de  0.2543\n",
      "A quantidade de tópicos = 14  tem um valor de coerência de  0.2584\n",
      "A quantidade de tópicos = 16  tem um valor de coerência de  0.2612\n",
      "A quantidade de tópicos = 18  tem um valor de coerência de  0.2634\n",
      "A quantidade de tópicos = 20  tem um valor de coerência de  0.2789\n",
      "A quantidade de tópicos = 22  tem um valor de coerência de  0.2742\n",
      "A quantidade de tópicos = 24  tem um valor de coerência de  0.2804\n",
      "A quantidade de tópicos = 26  tem um valor de coerência de  0.272\n",
      "A quantidade de tópicos = 28  tem um valor de coerência de  0.2741\n"
     ]
    }
   ],
   "source": [
    "from tqdm import tqdm\n",
    "from gensim.models import CoherenceModel\n",
    "def compute_coherence_values(dictionary, corpus, texts, limit, start=2, step=5):\n",
    "    coherence_values = []\n",
    "    model_list = []\n",
    "    for num_topics in tqdm(range(start, limit, step)):\n",
    "        \n",
    "        model = gensim.models.LdaMulticore(corpus, id2word=id2word, num_topics=num_topics)\n",
    "        model_list.append(model)\n",
    "        coherencemodel = CoherenceModel(model=model, texts=texts, dictionary=dictionary, coherence='c_v')\n",
    "        coherence_values.append(coherencemodel.get_coherence())\n",
    "    \n",
    "    return model_list, coherence_values# Colocando parametros na função\n",
    "    \n",
    "\n",
    "model_list, coherence_values = compute_coherence_values(dictionary=id2word, corpus=corpus, texts=l, start=2, limit=30, step=2)\n",
    "# Mostrando visualmente a quantidade de tópicos\n",
    "limit=30; start=2; step=2;\n",
    "x = range(start, limit, step)\n",
    "\n",
    "plt.plot(x, coherence_values)\n",
    "plt.xlabel(\"Num Tópicos\")\n",
    "plt.ylabel(\"Score de Coerência\")\n",
    "plt.legend((\"Valores de Coerência\"), loc='best')\n",
    "plt.show()# Lista dos valores de coerência, para melhor identificar o ponto de inflexão do gráfico\n",
    "for m, cv in zip(x, coherence_values):\n",
    "    print(\"A quantidade de tópicos =\", m, \" tem um valor de coerência de \", round(cv, 4))"
   ]
  },
  {
   "cell_type": "code",
   "execution_count": null,
   "metadata": {},
   "outputs": [],
   "source": [
    "data_new.topic.unique()\n"
   ]
  },
  {
   "cell_type": "code",
   "execution_count": null,
   "metadata": {},
   "outputs": [],
   "source": [
    "for i in data_new[data_new[\"topic\"] == 7].head().text.tolist():\n",
    "    print(i)\n",
    "    print(\"\\n\")"
   ]
  },
  {
   "cell_type": "code",
   "execution_count": null,
   "metadata": {},
   "outputs": [],
   "source": [
    "import pyLDAvis.gensim\n",
    "import pickle \n",
    "import os\n",
    "import pyLDAvis# Visualize the topics\n",
    "num_topics = 28\n",
    "pyLDAvis.enable_notebook()\n",
    "LDAvis_data_filepath = os.path.join('./results/ldavis_prepared_'+str(num_topics))# # this is a bit time consuming - make the if statement True\n",
    "# # if you want to execute visualization prep yourself\n",
    "if 1 == 1:\n",
    "    LDAvis_prepared = pyLDAvis.gensim.prepare(lda_model, corpus, id2word)\n",
    "    with open(LDAvis_data_filepath, 'wb') as f:\n",
    "        pickle.dump(LDAvis_prepared, f)# load the pre-prepared pyLDAvis data from disk\n",
    "with open(LDAvis_data_filepath, 'rb') as f:\n",
    "    LDAvis_prepared = pickle.load(f)\n",
    "    pyLDAvis.save_html(LDAvis_prepared, './results/ldavis_prepared_'+ str(num_topics) +'.html')\n",
    "    \n",
    "LDAvis_prepared"
   ]
  },
  {
   "cell_type": "code",
   "execution_count": null,
   "metadata": {},
   "outputs": [],
   "source": []
  }
 ],
 "metadata": {
  "kernelspec": {
   "display_name": "Python 3 (ipykernel)",
   "language": "python",
   "name": "python3"
  },
  "language_info": {
   "codemirror_mode": {
    "name": "ipython",
    "version": 3
   },
   "file_extension": ".py",
   "mimetype": "text/x-python",
   "name": "python",
   "nbconvert_exporter": "python",
   "pygments_lexer": "ipython3",
   "version": "3.6.9"
  }
 },
 "nbformat": 4,
 "nbformat_minor": 4
}
