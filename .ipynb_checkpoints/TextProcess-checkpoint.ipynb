{
 "cells": [
  {
   "cell_type": "code",
   "execution_count": 77,
   "metadata": {},
   "outputs": [],
   "source": [
    "from pyspark.sql import SparkSession\n",
    "import re\n",
    "import unidecode\n",
    "import demoji\n",
    "import pandas as pd\n",
    "import demoji\n",
    "import spacy\n",
    "from nltk.corpus import stopwords\n",
    "from spacy.lang.pt.stop_words import STOP_WORDS\n",
    "from string import punctuation\n",
    "from sklearn.feature_extraction.text import TfidfVectorizer\n",
    "\n",
    "nlp = spacy.load(\"pt\")\n",
    "nlp.Defaults.stop_words |= {\"gt\", \"to\",\"uol\",\"mi\",\"budddhetg\",\"the\", \"ne\", \"vou\", \"ta\", \"via\",\"ex\", \"pq\", \"vc\",\"aa\",\"pra\",\"to\", \"a\", \"b\", \"c\", \"d\", \"e\", \"f\", \"g\", \"h\", \"i\", \"j\", \"k\", \"l\", \"m\", \"n\", \"o\", \"p\", \"q\", \"r\", \"s\", \"t\", \"u\", \"v\", \"w\", \"x\", \"y\", \"z\"}\n",
    "palavras_irrelevantes = set(stopwords.words('portuguese') + list(punctuation))"
   ]
  },
  {
   "cell_type": "code",
   "execution_count": null,
   "metadata": {},
   "outputs": [],
   "source": [
    "sparkSession = SparkSession.builder.appName(\"twitter_mining_leo\").getOrCreate()"
   ]
  },
  {
   "cell_type": "code",
   "execution_count": 78,
   "metadata": {},
   "outputs": [],
   "source": [
    "df_load = sparkSession.read.csv('hdfs://localhost:9000/user/hadoop/twitter/').toPandas()"
   ]
  },
  {
   "cell_type": "code",
   "execution_count": 79,
   "metadata": {},
   "outputs": [],
   "source": [
    "df = df_load.rename(columns={\"_c0\": \"id\", \"_c1\": \"text\"})"
   ]
  },
  {
   "cell_type": "code",
   "execution_count": 80,
   "metadata": {},
   "outputs": [],
   "source": [
    "def cleanText(tweet):\n",
    "    if \"|\" in tweet:\n",
    "        tweet = tweet.split(\"|\")[1]\n",
    "        \n",
    "    tweet = ' '.join(re.sub(\"(@[A-Za-z0-9]+)|(#[A-Za-z0-9]+)|([0-9])\", \" \", tweet).split())\n",
    "    tweet = ' '.join(re.sub(\"(\\w+:\\/\\/\\S+)\", \" \", tweet).split())\n",
    "    tweet = ' '.join(re.sub(\"[\\_\\|\\.\\,\\\"\\'\\!\\?\\:\\;\\$\\-\\(\\)\\=]\", \" \", tweet).split())\n",
    "    tweet = tweet.lower()\n",
    "    \n",
    "    le = list(demoji.findall(tweet))\n",
    "    for i in le:\n",
    "        tweet = tweet.replace(i, \"\")\n",
    "    \n",
    "    if tweet.startswith('rt '):\n",
    "        tweet = tweet.replace(\"rt \", \"\")\n",
    "    \n",
    "    lNewTweet = []\n",
    "    for i in tweet.split(\" \"):\n",
    "        if i not in palavras_irrelevantes and i not in STOP_WORDS:\n",
    "            lNewTweet.append(i)\n",
    "    \n",
    "    newTweet = \" \".join(lNewTweet)\n",
    "        \n",
    "    return unidecode.unidecode(newTweet.replace(\" rt \", \"\"))"
   ]
  },
  {
   "cell_type": "code",
   "execution_count": 81,
   "metadata": {},
   "outputs": [],
   "source": [
    "df = df.dropna()"
   ]
  },
  {
   "cell_type": "code",
   "execution_count": 82,
   "metadata": {},
   "outputs": [],
   "source": [
    "df[\"clean_text\"] = df.text.apply(cleanText)"
   ]
  },
  {
   "cell_type": "code",
   "execution_count": 83,
   "metadata": {},
   "outputs": [],
   "source": [
    "vectorizer = TfidfVectorizer()    \n",
    "vect = vectorizer.fit_transform(df[\"clean_text\"].values)"
   ]
  },
  {
   "cell_type": "code",
   "execution_count": 85,
   "metadata": {},
   "outputs": [],
   "source": [
    "# vectorizer.get_feature_names()\n",
    "# vect.todense()"
   ]
  },
  {
   "cell_type": "code",
   "execution_count": 96,
   "metadata": {},
   "outputs": [
    {
     "data": {
      "text/html": [
       "<div>\n",
       "<style scoped>\n",
       "    .dataframe tbody tr th:only-of-type {\n",
       "        vertical-align: middle;\n",
       "    }\n",
       "\n",
       "    .dataframe tbody tr th {\n",
       "        vertical-align: top;\n",
       "    }\n",
       "\n",
       "    .dataframe thead th {\n",
       "        text-align: right;\n",
       "    }\n",
       "</style>\n",
       "<table border=\"1\" class=\"dataframe\">\n",
       "  <thead>\n",
       "    <tr style=\"text-align: right;\">\n",
       "      <th></th>\n",
       "      <th>TFIDF</th>\n",
       "    </tr>\n",
       "  </thead>\n",
       "  <tbody>\n",
       "    <tr>\n",
       "      <th>figado</th>\n",
       "      <td>0.369040</td>\n",
       "    </tr>\n",
       "    <tr>\n",
       "      <th>antecipado</th>\n",
       "      <td>0.369040</td>\n",
       "    </tr>\n",
       "    <tr>\n",
       "      <th>ky</th>\n",
       "      <td>0.351286</td>\n",
       "    </tr>\n",
       "    <tr>\n",
       "      <th>agradece</th>\n",
       "      <td>0.338688</td>\n",
       "    </tr>\n",
       "    <tr>\n",
       "      <th>papai</th>\n",
       "      <td>0.328917</td>\n",
       "    </tr>\n",
       "    <tr>\n",
       "      <th>noel</th>\n",
       "      <td>0.328917</td>\n",
       "    </tr>\n",
       "    <tr>\n",
       "      <th>presente</th>\n",
       "      <td>0.328917</td>\n",
       "    </tr>\n",
       "    <tr>\n",
       "      <th>crianca</th>\n",
       "      <td>0.298565</td>\n",
       "    </tr>\n",
       "    <tr>\n",
       "      <th>natal</th>\n",
       "      <td>0.275330</td>\n",
       "    </tr>\n",
       "    <tr>\n",
       "      <th>parlamento</th>\n",
       "      <td>0.000000</td>\n",
       "    </tr>\n",
       "  </tbody>\n",
       "</table>\n",
       "</div>"
      ],
      "text/plain": [
       "               TFIDF\n",
       "figado      0.369040\n",
       "antecipado  0.369040\n",
       "ky          0.351286\n",
       "agradece    0.338688\n",
       "papai       0.328917\n",
       "noel        0.328917\n",
       "presente    0.328917\n",
       "crianca     0.298565\n",
       "natal       0.275330\n",
       "parlamento  0.000000"
      ]
     },
     "execution_count": 96,
     "metadata": {},
     "output_type": "execute_result"
    }
   ],
   "source": [
    "df_1 = pd.DataFrame(vect[2].T.todense(), index=vectorizer.get_feature_names(), columns=[\"TFIDF\"])\n",
    "df_2 = df_1.sort_values('TFIDF', ascending=False)\n",
    "df_2.head(10)"
   ]
  },
  {
   "cell_type": "code",
   "execution_count": 97,
   "metadata": {},
   "outputs": [
    {
     "data": {
      "text/plain": [
       "array(['Kiss: \"Em 2009, boate inaugurou e foi um fracasso\", diz engenheiro https://t.co/uNhFH2IFks',\n",
       "       'Samara Felippo diz que amigas perderam papéis por não transar com diretores https://t.co/LiCQtfTQGn'],\n",
       "      dtype=object)"
      ]
     },
     "execution_count": 97,
     "metadata": {},
     "output_type": "execute_result"
    }
   ],
   "source": [
    "df[\"text\"].values[0:2]"
   ]
  },
  {
   "cell_type": "code",
   "execution_count": 93,
   "metadata": {},
   "outputs": [
    {
     "data": {
      "text/plain": [
       "0        kiss boate inaugurou fracasso engenheiro ifks\n",
       "1    samara felippo amigas perderam papeis transar ...\n",
       "2    crianca agradece papai noel presente natal ant...\n",
       "3    unico eclipse solar total visto antartida imagens\n",
       "4    jogador italiano lembra briga cr ronaldo fenom...\n",
       "Name: clean_text, dtype: object"
      ]
     },
     "execution_count": 93,
     "metadata": {},
     "output_type": "execute_result"
    }
   ],
   "source": [
    "df[\"clean_text\"].head()"
   ]
  },
  {
   "cell_type": "code",
   "execution_count": null,
   "metadata": {},
   "outputs": [],
   "source": [
    "t = 'Em depoimento no julgamento dos réus do caso da boate Kiss, o engenheiro \\\n",
    "civil Thiago Mutti, 46, disse que inicialmente o local, em Santa Maria (RS), \\\n",
    "foi considerada um \"fracasso\", com movimento fraco e com poucas festas. \\\n",
    "Ele é 14ª pessoa a ser ouvida no Tribunal do Júri que já dura cinco dias em Porto Alegre.\\\n",
    "Mutti disse que a família dele investiu cerca de R$ 250 mil para transformar o \\\n",
    "local em uma casa noturna - antes funcionava um curso pré-vestibular. Porém, \\\n",
    "sem retorno financeiro, decidiram deixar o negócio - tocado em conjunto com outros dois sócios: \\\n",
    "Alexandre Costa e Elton Cristiano Uroda. Mutti negou que fosse sócio proprietário da casa \\\n",
    "noturna, função que, segundo o engenheiro, era ocupada pela irmã dele. \\\n",
    "Porém, no começo do depoimento, a promotora de justiça Lúcia Helena Callegari salientou que \\\n",
    "ele está sendo processado por falsidade ideológica por \"colocar laranjas\" para tocar o negócio.\\\n",
    "Por conta disso, o juiz Orlando Faccini Neto o rebaixou à condição de informante — antes estava \\\n",
    "como testemunha. O magistrado explicou que, como testemunha, ele tinha a obrigação de falar a verdade, \\\n",
    "caso contrário responderia por falso testemunho. E justificou que a mudança de testemunha para informante \\\n",
    "se deu porque o processo ainda está em andamento - sem decisão final.\\\n",
    "A ideia de abrir uma nova casa noturna na cidade, explicou Mutti, surgiu após Costa identificar \\\n",
    "que ainda havia espaço para investir no ramo em Santa Maria. \"Minha irmã estava voltando para \\\n",
    "Santa Maria e tinha uma reserva de dinheiro. E eu incentivei (o negócio).\"\\\n",
    "Segundo o engenheiro, o outro sócio que iria \"tocar o negócio\" e que foi ele que \\\n",
    "encontrou a sala comercial, de cerca de 630 metros quadrados. A família de Mutti não tinha \\\n",
    "experiência na área. \"Em 2009, a boate inaugurou e foi um fracasso. Como a reforma demorou, \\\n",
    "minha irmã resolveu fazer prova de mestrado e meu pai assumiu, e tinha até procuração dela. \\\n",
    "Daí minha irmã disse que ia vender [a] parte [dela].\" O outro sócio não aceitou comprar a parte \\\n",
    "da família e, por isso, Mutti decidiu procurar outras pessoas para ver se tinham interesse em entrar \\\n",
    "no negócio. \"Ofereci para o Kiko [Elissandro Spohr, um dos réus e sócio da Kiss na época do incêndio].\\\n",
    "Perguntei para o Kiko se queria comprar a parte da minha irmã e [ele] disse 'quero'.\" Porém, segundo Mutti,\\\n",
    "Kiko colocou uma condição: só iria comprar a parte quando saísse o alvará da prefeitura. Na negociação, \\\n",
    "o empresário. \n",
    "'\n",
    "\n"
   ]
  }
 ],
 "metadata": {
  "kernelspec": {
   "display_name": "Python 3",
   "language": "python",
   "name": "python3"
  },
  "language_info": {
   "codemirror_mode": {
    "name": "ipython",
    "version": 3
   },
   "file_extension": ".py",
   "mimetype": "text/x-python",
   "name": "python",
   "nbconvert_exporter": "python",
   "pygments_lexer": "ipython3",
   "version": "3.6.9"
  }
 },
 "nbformat": 4,
 "nbformat_minor": 4
}
